{
 "cells": [
  {
   "cell_type": "code",
   "execution_count": 1,
   "metadata": {
    "execution": {
     "iopub.execute_input": "2024-12-23T19:14:43.858006Z",
     "iopub.status.busy": "2024-12-23T19:14:43.857638Z",
     "iopub.status.idle": "2024-12-23T19:14:44.035606Z",
     "shell.execute_reply": "2024-12-23T19:14:44.034667Z",
     "shell.execute_reply.started": "2024-12-23T19:14:43.857982Z"
    },
    "id": "VffvIGE-iXvZ",
    "outputId": "4e4e479b-0f5c-4f3c-f988-f6bc1ea6c104",
    "trusted": true
   },
   "outputs": [
    {
     "name": "stdout",
     "output_type": "stream",
     "text": [
      "fatal: destination path 'Forum-Discussions-Categorization' already exists and is not an empty directory.\n"
     ]
    }
   ],
   "source": [
    "!git clone https://github.com/amira20nasser/Forum-Discussions-Categorization.git\n"
   ]
  },
  {
   "cell_type": "code",
   "execution_count": 2,
   "metadata": {
    "execution": {
     "iopub.execute_input": "2024-12-23T19:14:44.037122Z",
     "iopub.status.busy": "2024-12-23T19:14:44.036831Z",
     "iopub.status.idle": "2024-12-23T19:14:58.510595Z",
     "shell.execute_reply": "2024-12-23T19:14:58.509479Z",
     "shell.execute_reply.started": "2024-12-23T19:14:44.037100Z"
    },
    "id": "9gkjcq6w8vKB",
    "outputId": "e70afa3c-af6f-4acd-9edd-cffa2975eaa2",
    "trusted": true
   },
   "outputs": [
    {
     "name": "stdout",
     "output_type": "stream",
     "text": [
      "Requirement already satisfied: dask_ml in /usr/local/lib/python3.10/dist-packages (2024.4.4)\n",
      "Requirement already satisfied: dask-glm>=0.2.0 in /usr/local/lib/python3.10/dist-packages (from dask_ml) (0.3.2)\n",
      "Requirement already satisfied: dask>=2.4.0 in /usr/local/lib/python3.10/dist-packages (from dask[array,dataframe]>=2.4.0->dask_ml) (2024.12.1)\n",
      "Requirement already satisfied: distributed>=2.4.0 in /usr/local/lib/python3.10/dist-packages (from dask_ml) (2024.12.1)\n",
      "Requirement already satisfied: multipledispatch>=0.4.9 in /usr/local/lib/python3.10/dist-packages (from dask_ml) (1.0.0)\n",
      "Requirement already satisfied: numba>=0.51.0 in /usr/local/lib/python3.10/dist-packages (from dask_ml) (0.60.0)\n",
      "Requirement already satisfied: numpy>=1.20.0 in /usr/local/lib/python3.10/dist-packages (from dask_ml) (1.26.4)\n",
      "Requirement already satisfied: packaging in /usr/local/lib/python3.10/dist-packages (from dask_ml) (24.1)\n",
      "Requirement already satisfied: pandas>=0.24.2 in /usr/local/lib/python3.10/dist-packages (from dask_ml) (2.1.4)\n",
      "Requirement already satisfied: scikit-learn>=1.2.0 in /usr/local/lib/python3.10/dist-packages (from dask_ml) (1.2.2)\n",
      "Requirement already satisfied: scipy in /usr/local/lib/python3.10/dist-packages (from dask_ml) (1.13.1)\n",
      "Requirement already satisfied: click>=8.1 in /usr/local/lib/python3.10/dist-packages (from dask>=2.4.0->dask[array,dataframe]>=2.4.0->dask_ml) (8.1.7)\n",
      "Requirement already satisfied: cloudpickle>=3.0.0 in /usr/local/lib/python3.10/dist-packages (from dask>=2.4.0->dask[array,dataframe]>=2.4.0->dask_ml) (3.1.0)\n",
      "Requirement already satisfied: fsspec>=2021.09.0 in /usr/local/lib/python3.10/dist-packages (from dask>=2.4.0->dask[array,dataframe]>=2.4.0->dask_ml) (2024.6.1)\n",
      "Requirement already satisfied: partd>=1.4.0 in /usr/local/lib/python3.10/dist-packages (from dask>=2.4.0->dask[array,dataframe]>=2.4.0->dask_ml) (1.4.2)\n",
      "Requirement already satisfied: pyyaml>=5.3.1 in /usr/local/lib/python3.10/dist-packages (from dask>=2.4.0->dask[array,dataframe]>=2.4.0->dask_ml) (6.0.2)\n",
      "Requirement already satisfied: toolz>=0.10.0 in /usr/local/lib/python3.10/dist-packages (from dask>=2.4.0->dask[array,dataframe]>=2.4.0->dask_ml) (0.12.1)\n",
      "Requirement already satisfied: importlib_metadata>=4.13.0 in /usr/local/lib/python3.10/dist-packages (from dask>=2.4.0->dask[array,dataframe]>=2.4.0->dask_ml) (8.5.0)\n",
      "Requirement already satisfied: sparse>=0.7.0 in /usr/local/lib/python3.10/dist-packages (from dask-glm>=0.2.0->dask_ml) (0.15.4)\n",
      "Requirement already satisfied: dask-expr<1.2,>=1.1 in /usr/local/lib/python3.10/dist-packages (from dask[array,dataframe]>=2.4.0->dask_ml) (1.1.21)\n",
      "Requirement already satisfied: jinja2>=2.10.3 in /usr/local/lib/python3.10/dist-packages (from distributed>=2.4.0->dask_ml) (3.1.4)\n",
      "Requirement already satisfied: locket>=1.0.0 in /usr/local/lib/python3.10/dist-packages (from distributed>=2.4.0->dask_ml) (1.0.0)\n",
      "Requirement already satisfied: msgpack>=1.0.2 in /usr/local/lib/python3.10/dist-packages (from distributed>=2.4.0->dask_ml) (1.0.8)\n",
      "Requirement already satisfied: psutil>=5.8.0 in /usr/local/lib/python3.10/dist-packages (from distributed>=2.4.0->dask_ml) (5.9.5)\n",
      "Requirement already satisfied: sortedcontainers>=2.0.5 in /usr/local/lib/python3.10/dist-packages (from distributed>=2.4.0->dask_ml) (2.4.0)\n",
      "Requirement already satisfied: tblib>=1.6.0 in /usr/local/lib/python3.10/dist-packages (from distributed>=2.4.0->dask_ml) (3.0.0)\n",
      "Requirement already satisfied: tornado>=6.2.0 in /usr/local/lib/python3.10/dist-packages (from distributed>=2.4.0->dask_ml) (6.3.3)\n",
      "Requirement already satisfied: urllib3>=1.26.5 in /usr/local/lib/python3.10/dist-packages (from distributed>=2.4.0->dask_ml) (2.2.3)\n",
      "Requirement already satisfied: zict>=3.0.0 in /usr/local/lib/python3.10/dist-packages (from distributed>=2.4.0->dask_ml) (3.0.0)\n",
      "Requirement already satisfied: llvmlite<0.44,>=0.43.0dev0 in /usr/local/lib/python3.10/dist-packages (from numba>=0.51.0->dask_ml) (0.43.0)\n",
      "Requirement already satisfied: python-dateutil>=2.8.2 in /usr/local/lib/python3.10/dist-packages (from pandas>=0.24.2->dask_ml) (2.8.2)\n",
      "Requirement already satisfied: pytz>=2020.1 in /usr/local/lib/python3.10/dist-packages (from pandas>=0.24.2->dask_ml) (2024.2)\n",
      "Requirement already satisfied: tzdata>=2022.1 in /usr/local/lib/python3.10/dist-packages (from pandas>=0.24.2->dask_ml) (2024.1)\n",
      "Requirement already satisfied: joblib>=1.1.1 in /usr/local/lib/python3.10/dist-packages (from scikit-learn>=1.2.0->dask_ml) (1.4.2)\n",
      "Requirement already satisfied: threadpoolctl>=2.0.0 in /usr/local/lib/python3.10/dist-packages (from scikit-learn>=1.2.0->dask_ml) (3.5.0)\n",
      "Requirement already satisfied: pyarrow>=14.0.1 in /usr/local/lib/python3.10/dist-packages (from dask-expr<1.2,>=1.1->dask[array,dataframe]>=2.4.0->dask_ml) (18.1.0)\n",
      "Requirement already satisfied: zipp>=3.20 in /usr/local/lib/python3.10/dist-packages (from importlib_metadata>=4.13.0->dask>=2.4.0->dask[array,dataframe]>=2.4.0->dask_ml) (3.20.2)\n",
      "Requirement already satisfied: MarkupSafe>=2.0 in /usr/local/lib/python3.10/dist-packages (from jinja2>=2.10.3->distributed>=2.4.0->dask_ml) (2.1.5)\n",
      "Requirement already satisfied: six>=1.5 in /usr/local/lib/python3.10/dist-packages (from python-dateutil>=2.8.2->pandas>=0.24.2->dask_ml) (1.16.0)\n",
      "Requirement already satisfied: emoji in /usr/local/lib/python3.10/dist-packages (2.14.0)\n",
      "Requirement already satisfied: nltk in /usr/local/lib/python3.10/dist-packages (3.2.4)\n",
      "Requirement already satisfied: six in /usr/local/lib/python3.10/dist-packages (from nltk) (1.16.0)\n",
      "Requirement already satisfied: dask_ml in /usr/local/lib/python3.10/dist-packages (2024.4.4)\n",
      "Requirement already satisfied: dask-glm>=0.2.0 in /usr/local/lib/python3.10/dist-packages (from dask_ml) (0.3.2)\n",
      "Requirement already satisfied: dask>=2.4.0 in /usr/local/lib/python3.10/dist-packages (from dask[array,dataframe]>=2.4.0->dask_ml) (2024.12.1)\n",
      "Requirement already satisfied: distributed>=2.4.0 in /usr/local/lib/python3.10/dist-packages (from dask_ml) (2024.12.1)\n",
      "Requirement already satisfied: multipledispatch>=0.4.9 in /usr/local/lib/python3.10/dist-packages (from dask_ml) (1.0.0)\n",
      "Requirement already satisfied: numba>=0.51.0 in /usr/local/lib/python3.10/dist-packages (from dask_ml) (0.60.0)\n",
      "Requirement already satisfied: numpy>=1.20.0 in /usr/local/lib/python3.10/dist-packages (from dask_ml) (1.26.4)\n",
      "Requirement already satisfied: packaging in /usr/local/lib/python3.10/dist-packages (from dask_ml) (24.1)\n",
      "Requirement already satisfied: pandas>=0.24.2 in /usr/local/lib/python3.10/dist-packages (from dask_ml) (2.1.4)\n",
      "Requirement already satisfied: scikit-learn>=1.2.0 in /usr/local/lib/python3.10/dist-packages (from dask_ml) (1.2.2)\n",
      "Requirement already satisfied: scipy in /usr/local/lib/python3.10/dist-packages (from dask_ml) (1.13.1)\n",
      "Requirement already satisfied: click>=8.1 in /usr/local/lib/python3.10/dist-packages (from dask>=2.4.0->dask[array,dataframe]>=2.4.0->dask_ml) (8.1.7)\n",
      "Requirement already satisfied: cloudpickle>=3.0.0 in /usr/local/lib/python3.10/dist-packages (from dask>=2.4.0->dask[array,dataframe]>=2.4.0->dask_ml) (3.1.0)\n",
      "Requirement already satisfied: fsspec>=2021.09.0 in /usr/local/lib/python3.10/dist-packages (from dask>=2.4.0->dask[array,dataframe]>=2.4.0->dask_ml) (2024.6.1)\n",
      "Requirement already satisfied: partd>=1.4.0 in /usr/local/lib/python3.10/dist-packages (from dask>=2.4.0->dask[array,dataframe]>=2.4.0->dask_ml) (1.4.2)\n",
      "Requirement already satisfied: pyyaml>=5.3.1 in /usr/local/lib/python3.10/dist-packages (from dask>=2.4.0->dask[array,dataframe]>=2.4.0->dask_ml) (6.0.2)\n",
      "Requirement already satisfied: toolz>=0.10.0 in /usr/local/lib/python3.10/dist-packages (from dask>=2.4.0->dask[array,dataframe]>=2.4.0->dask_ml) (0.12.1)\n",
      "Requirement already satisfied: importlib_metadata>=4.13.0 in /usr/local/lib/python3.10/dist-packages (from dask>=2.4.0->dask[array,dataframe]>=2.4.0->dask_ml) (8.5.0)\n",
      "Requirement already satisfied: sparse>=0.7.0 in /usr/local/lib/python3.10/dist-packages (from dask-glm>=0.2.0->dask_ml) (0.15.4)\n",
      "Requirement already satisfied: dask-expr<1.2,>=1.1 in /usr/local/lib/python3.10/dist-packages (from dask[array,dataframe]>=2.4.0->dask_ml) (1.1.21)\n",
      "Requirement already satisfied: jinja2>=2.10.3 in /usr/local/lib/python3.10/dist-packages (from distributed>=2.4.0->dask_ml) (3.1.4)\n",
      "Requirement already satisfied: locket>=1.0.0 in /usr/local/lib/python3.10/dist-packages (from distributed>=2.4.0->dask_ml) (1.0.0)\n",
      "Requirement already satisfied: msgpack>=1.0.2 in /usr/local/lib/python3.10/dist-packages (from distributed>=2.4.0->dask_ml) (1.0.8)\n",
      "Requirement already satisfied: psutil>=5.8.0 in /usr/local/lib/python3.10/dist-packages (from distributed>=2.4.0->dask_ml) (5.9.5)\n",
      "Requirement already satisfied: sortedcontainers>=2.0.5 in /usr/local/lib/python3.10/dist-packages (from distributed>=2.4.0->dask_ml) (2.4.0)\n",
      "Requirement already satisfied: tblib>=1.6.0 in /usr/local/lib/python3.10/dist-packages (from distributed>=2.4.0->dask_ml) (3.0.0)\n",
      "Requirement already satisfied: tornado>=6.2.0 in /usr/local/lib/python3.10/dist-packages (from distributed>=2.4.0->dask_ml) (6.3.3)\n",
      "Requirement already satisfied: urllib3>=1.26.5 in /usr/local/lib/python3.10/dist-packages (from distributed>=2.4.0->dask_ml) (2.2.3)\n",
      "Requirement already satisfied: zict>=3.0.0 in /usr/local/lib/python3.10/dist-packages (from distributed>=2.4.0->dask_ml) (3.0.0)\n",
      "Requirement already satisfied: llvmlite<0.44,>=0.43.0dev0 in /usr/local/lib/python3.10/dist-packages (from numba>=0.51.0->dask_ml) (0.43.0)\n",
      "Requirement already satisfied: python-dateutil>=2.8.2 in /usr/local/lib/python3.10/dist-packages (from pandas>=0.24.2->dask_ml) (2.8.2)\n",
      "Requirement already satisfied: pytz>=2020.1 in /usr/local/lib/python3.10/dist-packages (from pandas>=0.24.2->dask_ml) (2024.2)\n",
      "Requirement already satisfied: tzdata>=2022.1 in /usr/local/lib/python3.10/dist-packages (from pandas>=0.24.2->dask_ml) (2024.1)\n",
      "Requirement already satisfied: joblib>=1.1.1 in /usr/local/lib/python3.10/dist-packages (from scikit-learn>=1.2.0->dask_ml) (1.4.2)\n",
      "Requirement already satisfied: threadpoolctl>=2.0.0 in /usr/local/lib/python3.10/dist-packages (from scikit-learn>=1.2.0->dask_ml) (3.5.0)\n",
      "Requirement already satisfied: pyarrow>=14.0.1 in /usr/local/lib/python3.10/dist-packages (from dask-expr<1.2,>=1.1->dask[array,dataframe]>=2.4.0->dask_ml) (18.1.0)\n",
      "Requirement already satisfied: zipp>=3.20 in /usr/local/lib/python3.10/dist-packages (from importlib_metadata>=4.13.0->dask>=2.4.0->dask[array,dataframe]>=2.4.0->dask_ml) (3.20.2)\n",
      "Requirement already satisfied: MarkupSafe>=2.0 in /usr/local/lib/python3.10/dist-packages (from jinja2>=2.10.3->distributed>=2.4.0->dask_ml) (2.1.5)\n",
      "Requirement already satisfied: six>=1.5 in /usr/local/lib/python3.10/dist-packages (from python-dateutil>=2.8.2->pandas>=0.24.2->dask_ml) (1.16.0)\n"
     ]
    }
   ],
   "source": [
    "!pip install dask_ml\n",
    "!pip install emoji\n",
    "!pip install nltk\n",
    "!pip install dask_ml"
   ]
  },
  {
   "cell_type": "code",
   "execution_count": 3,
   "metadata": {
    "execution": {
     "iopub.execute_input": "2024-12-23T19:14:58.513016Z",
     "iopub.status.busy": "2024-12-23T19:14:58.512662Z",
     "iopub.status.idle": "2024-12-23T19:15:00.489860Z",
     "shell.execute_reply": "2024-12-23T19:15:00.489151Z",
     "shell.execute_reply.started": "2024-12-23T19:14:58.512991Z"
    },
    "id": "dOTW6eBdyulD",
    "outputId": "93a03dc5-e5f3-4936-ff40-c9843220c04c",
    "trusted": true
   },
   "outputs": [
    {
     "name": "stdout",
     "output_type": "stream",
     "text": [
      "[nltk_data] Downloading package stopwords to /usr/share/nltk_data...\n",
      "[nltk_data]   Package stopwords is already up-to-date!\n",
      "[nltk_data] Downloading package punkt_tab to /usr/share/nltk_data...\n",
      "[nltk_data]   Package punkt_tab is already up-to-date!\n",
      "[nltk_data] Downloading package wordnet to /usr/share/nltk_data...\n",
      "[nltk_data]   Package wordnet is already up-to-date!\n"
     ]
    },
    {
     "data": {
      "text/plain": [
       "True"
      ]
     },
     "execution_count": 3,
     "metadata": {},
     "output_type": "execute_result"
    }
   ],
   "source": [
    "import nltk\n",
    "nltk.download('stopwords')\n",
    "nltk.download('punkt_tab')\n",
    "nltk.download('wordnet')"
   ]
  },
  {
   "cell_type": "code",
   "execution_count": 4,
   "metadata": {
    "execution": {
     "iopub.execute_input": "2024-12-23T19:15:00.491222Z",
     "iopub.status.busy": "2024-12-23T19:15:00.490899Z",
     "iopub.status.idle": "2024-12-23T19:15:05.040076Z",
     "shell.execute_reply": "2024-12-23T19:15:05.039354Z",
     "shell.execute_reply.started": "2024-12-23T19:15:00.491201Z"
    },
    "id": "UI6Z69YhuRfp",
    "trusted": true
   },
   "outputs": [],
   "source": [
    "import re\n",
    "import emoji\n",
    "import nltk\n",
    "import numpy as np\n",
    "import dask.dataframe as dd\n",
    "from nltk import ngrams\n",
    "import matplotlib.pyplot as plt\n",
    "from nltk.corpus import stopwords\n",
    "from urllib.parse import urlparse\n",
    "from nltk.tokenize import word_tokenize\n",
    "from nltk.stem import WordNetLemmatizer\n",
    "from sklearn.preprocessing import LabelEncoder\n",
    "from dask_ml.model_selection import train_test_split\n",
    "from sklearn.feature_extraction.text import TfidfVectorizer"
   ]
  },
  {
   "cell_type": "code",
   "execution_count": 5,
   "metadata": {
    "execution": {
     "iopub.execute_input": "2024-12-23T19:15:05.041442Z",
     "iopub.status.busy": "2024-12-23T19:15:05.040954Z",
     "iopub.status.idle": "2024-12-23T19:15:05.085653Z",
     "shell.execute_reply": "2024-12-23T19:15:05.084905Z",
     "shell.execute_reply.started": "2024-12-23T19:15:05.041408Z"
    },
    "id": "q5mDCi19ipJ7",
    "outputId": "a6e64daa-598a-4520-fc0d-da6e6877df22",
    "trusted": true
   },
   "outputs": [
    {
     "name": "stderr",
     "output_type": "stream",
     "text": [
      "/usr/local/lib/python3.10/dist-packages/dask_ml/model_selection/_split.py:464: FutureWarning: The default value for 'shuffle' must be specified when splitting DataFrames. In the future DataFrames will automatically be shuffled within blocks prior to splitting. Specify 'shuffle=True' to adopt the future behavior now, or 'shuffle=False' to retain the previous behavior.\n",
      "  warnings.warn(\n"
     ]
    }
   ],
   "source": [
    "dataset_path = 'Forum-Discussions-Categorization/nn-25-forum-discussions-categorization'\n",
    "train = dd.read_csv(dataset_path + '/train.csv')\n",
    "train=train.sample(frac=0.5, random_state=42)\n",
    "X = train['Discussion']\n",
    "y = train['Category']\n",
    "X_train, X_valid, y_train, y_valid = train_test_split(X, y, test_size=0.1, random_state=42)\n"
   ]
  },
  {
   "cell_type": "markdown",
   "metadata": {
    "id": "ndtRTFgXyj_v"
   },
   "source": [
    "# Text Preprocessing"
   ]
  },
  {
   "cell_type": "code",
   "execution_count": 6,
   "metadata": {
    "execution": {
     "iopub.execute_input": "2024-12-23T19:15:05.086652Z",
     "iopub.status.busy": "2024-12-23T19:15:05.086423Z",
     "iopub.status.idle": "2024-12-23T19:15:05.093135Z",
     "shell.execute_reply": "2024-12-23T19:15:05.092329Z",
     "shell.execute_reply.started": "2024-12-23T19:15:05.086632Z"
    },
    "id": "-jNT-kloipjz",
    "trusted": true
   },
   "outputs": [],
   "source": [
    "\n",
    "\n",
    "\n",
    "def extract_url_features(url):\n",
    "    parsed_url = urlparse(url)\n",
    "    domain = parsed_url.netloc\n",
    "    path = parsed_url.path\n",
    "    query = parsed_url.query\n",
    "    tld = domain.split('.')[-1]\n",
    "    domain = re.sub(r'\\bwww\\b', '', domain)\n",
    "    domain = re.sub(r'\\.com\\b', '', domain)\n",
    "    return  domain+' '+path\n",
    "\n",
    "def place_holder_url(text):\n",
    "    if not isinstance(text, str):\n",
    "        return \"\"\n",
    "    urls = re.findall(r'https?://(?:www\\.)?[^\\s/$.?#].[^\\s]*', text)\n",
    "    for url in urls:\n",
    "        text = text.replace(url, extract_url_features(url))\n",
    "    return text\n",
    "\n",
    "def remove_urls(text):\n",
    "    if not isinstance(text, str):\n",
    "        return \"\"\n",
    "    return re.sub(r'https?://(?:www\\.)?[^\\s/$.?#].[^\\s]*', '', text)\n",
    "\n",
    "\n",
    "def clean_text(text):\n",
    "    if not isinstance(text, str):\n",
    "        return \" \"\n",
    "    text = text.lower()\n",
    "    text = re.sub(r'(.)\\1+', r'\\1', text) #repetitive oooh ahhh\n",
    "    text = re.sub(r'\\s+', ' ', text)\n",
    "\n",
    "    text_no_emojis = emoji.replace_emoji(text, replace=' ')\n",
    "    text_no_numbers = re.sub(r'\\d+', ' ', text_no_emojis)\n",
    "\n",
    "    return text_no_numbers\n",
    "\n",
    "def preprocess(text):\n",
    "    text = place_holder_url(text)\n",
    "    text = clean_text(text)\n",
    "    # Tokenize using BERT tokenizer\n",
    "    # and return input_ids instead of word embeddings\n",
    "    return text\n",
    "\n",
    "\n",
    "\n"
   ]
  },
  {
   "cell_type": "code",
   "execution_count": 7,
   "metadata": {
    "execution": {
     "iopub.execute_input": "2024-12-23T19:15:05.094508Z",
     "iopub.status.busy": "2024-12-23T19:15:05.094248Z",
     "iopub.status.idle": "2024-12-23T19:15:08.823213Z",
     "shell.execute_reply": "2024-12-23T19:15:08.822257Z",
     "shell.execute_reply.started": "2024-12-23T19:15:05.094473Z"
    },
    "id": "N0n7h5vEDerp",
    "trusted": true
   },
   "outputs": [],
   "source": [
    "# Reprocess your data with the updated preprocess function\n",
    "X_train = X_train.apply(preprocess, meta=('Discussion', 'object')).compute()\n",
    "X_valid = X_valid.apply(preprocess, meta=('Discussion', 'object')).compute()"
   ]
  },
  {
   "cell_type": "markdown",
   "metadata": {
    "id": "cRvjbWiDX7Wo"
   },
   "source": [
    "## Encoding Y"
   ]
  },
  {
   "cell_type": "code",
   "execution_count": 8,
   "metadata": {
    "execution": {
     "iopub.execute_input": "2024-12-23T19:15:08.826664Z",
     "iopub.status.busy": "2024-12-23T19:15:08.826422Z",
     "iopub.status.idle": "2024-12-23T19:15:08.830769Z",
     "shell.execute_reply": "2024-12-23T19:15:08.829911Z",
     "shell.execute_reply.started": "2024-12-23T19:15:08.826644Z"
    },
    "id": "qPZRtbVYX-io",
    "trusted": true
   },
   "outputs": [],
   "source": [
    "def encode_labels(labels):\n",
    "  manual_mapping = {\n",
    "      'Politics': 0,\n",
    "      'Sports': 1,\n",
    "      'Media': 2,\n",
    "      'Market & Economy': 3,\n",
    "      'STEM': 4\n",
    "  }\n",
    "  encoded_labels = [manual_mapping[label] for label in labels]\n",
    "  return encoded_labels"
   ]
  },
  {
   "cell_type": "code",
   "execution_count": 9,
   "metadata": {
    "execution": {
     "iopub.execute_input": "2024-12-23T19:15:08.832445Z",
     "iopub.status.busy": "2024-12-23T19:15:08.832214Z",
     "iopub.status.idle": "2024-12-23T19:15:09.093822Z",
     "shell.execute_reply": "2024-12-23T19:15:09.092974Z",
     "shell.execute_reply.started": "2024-12-23T19:15:08.832411Z"
    },
    "id": "xTQA1MxMYg0O",
    "outputId": "20b03977-510a-4336-c5e1-9897485d8d02",
    "trusted": true
   },
   "outputs": [
    {
     "data": {
      "text/plain": [
       "[4, 1]"
      ]
     },
     "execution_count": 9,
     "metadata": {},
     "output_type": "execute_result"
    }
   ],
   "source": [
    "y_train = encode_labels(y_train.compute())\n",
    "y_valid = encode_labels(y_valid.compute())\n",
    "y_train[0:2]"
   ]
  },
  {
   "cell_type": "code",
   "execution_count": 10,
   "metadata": {
    "execution": {
     "iopub.execute_input": "2024-12-23T19:15:09.094961Z",
     "iopub.status.busy": "2024-12-23T19:15:09.094688Z",
     "iopub.status.idle": "2024-12-23T19:15:09.099345Z",
     "shell.execute_reply": "2024-12-23T19:15:09.098386Z",
     "shell.execute_reply.started": "2024-12-23T19:15:09.094936Z"
    },
    "id": "xyZYOLlLdgFr",
    "trusted": true
   },
   "outputs": [],
   "source": [
    "y_train = np.array(y_train)\n",
    "y_valid = np.array(y_valid)"
   ]
  },
  {
   "cell_type": "code",
   "execution_count": 11,
   "metadata": {
    "execution": {
     "iopub.execute_input": "2024-12-23T19:15:09.100679Z",
     "iopub.status.busy": "2024-12-23T19:15:09.100386Z",
     "iopub.status.idle": "2024-12-23T19:15:09.113484Z",
     "shell.execute_reply": "2024-12-23T19:15:09.112655Z",
     "shell.execute_reply.started": "2024-12-23T19:15:09.100646Z"
    },
    "id": "clGOZsIukTLJ",
    "outputId": "5546c0c2-59d0-42aa-a1c2-8b947f3fdd9b",
    "trusted": true
   },
   "outputs": [
    {
     "data": {
      "text/plain": [
       "array([4, 1, 4, ..., 0, 0, 0])"
      ]
     },
     "execution_count": 11,
     "metadata": {},
     "output_type": "execute_result"
    }
   ],
   "source": [
    "y_train"
   ]
  },
  {
   "cell_type": "markdown",
   "metadata": {
    "id": "vYNWBNwkVzSM"
   },
   "source": [
    "#   **BERT**"
   ]
  },
  {
   "cell_type": "code",
   "execution_count": 12,
   "metadata": {
    "execution": {
     "iopub.execute_input": "2024-12-23T19:15:09.114687Z",
     "iopub.status.busy": "2024-12-23T19:15:09.114365Z",
     "iopub.status.idle": "2024-12-23T19:15:17.803118Z",
     "shell.execute_reply": "2024-12-23T19:15:17.802315Z",
     "shell.execute_reply.started": "2024-12-23T19:15:09.114655Z"
    },
    "id": "FUhGIioUa8kP",
    "trusted": true
   },
   "outputs": [],
   "source": [
    "import tensorflow as tf\n",
    "\n",
    "# Pad sequences to make them the same length\n",
    "#X_train = tf.keras.preprocessing.sequence.pad_sequences(X_train, padding='post', maxlen=128)\n",
    "#X_valid = tf.keras.preprocessing.sequence.pad_sequences(X_valid, padding='post', maxlen=128)"
   ]
  },
  {
   "cell_type": "code",
   "execution_count": 13,
   "metadata": {
    "execution": {
     "iopub.execute_input": "2024-12-23T19:15:17.804600Z",
     "iopub.status.busy": "2024-12-23T19:15:17.803948Z",
     "iopub.status.idle": "2024-12-23T19:15:17.810494Z",
     "shell.execute_reply": "2024-12-23T19:15:17.809719Z",
     "shell.execute_reply.started": "2024-12-23T19:15:17.804574Z"
    },
    "id": "NiuB6vyr1QAW",
    "trusted": true
   },
   "outputs": [],
   "source": [
    "X_train=list(X_train)\n",
    "X_valid=list(X_valid)"
   ]
  },
  {
   "cell_type": "code",
   "execution_count": 14,
   "metadata": {
    "execution": {
     "iopub.execute_input": "2024-12-23T19:15:17.811671Z",
     "iopub.status.busy": "2024-12-23T19:15:17.811371Z",
     "iopub.status.idle": "2024-12-23T19:15:17.827553Z",
     "shell.execute_reply": "2024-12-23T19:15:17.826863Z",
     "shell.execute_reply.started": "2024-12-23T19:15:17.811637Z"
    },
    "id": "e340aDUD8Ha9",
    "trusted": true
   },
   "outputs": [],
   "source": [
    "# X_train = X_train.tolist()\n",
    "# X_valid = X_valid.tolist()\n"
   ]
  },
  {
   "cell_type": "code",
   "execution_count": 15,
   "metadata": {
    "execution": {
     "iopub.execute_input": "2024-12-23T19:15:17.828766Z",
     "iopub.status.busy": "2024-12-23T19:15:17.828455Z",
     "iopub.status.idle": "2024-12-23T19:15:25.511967Z",
     "shell.execute_reply": "2024-12-23T19:15:25.511240Z",
     "shell.execute_reply.started": "2024-12-23T19:15:17.828736Z"
    },
    "id": "vwptuiRoGH1m",
    "outputId": "aa9f0ad6-dd12-4f97-8a5f-9d4be95dd1e9",
    "trusted": true
   },
   "outputs": [
    {
     "name": "stderr",
     "output_type": "stream",
     "text": [
      "/usr/lib/python3.10/pty.py:89: RuntimeWarning: os.fork() was called. os.fork() is incompatible with multithreaded code, and JAX is multithreaded, so this will likely lead to a deadlock.\n",
      "  pid, fd = os.forkpty()\n"
     ]
    },
    {
     "name": "stdout",
     "output_type": "stream",
     "text": [
      "Requirement already satisfied: transformers in /usr/local/lib/python3.10/dist-packages (4.44.2)\n",
      "Requirement already satisfied: filelock in /usr/local/lib/python3.10/dist-packages (from transformers) (3.16.1)\n",
      "Requirement already satisfied: huggingface-hub<1.0,>=0.23.2 in /usr/local/lib/python3.10/dist-packages (from transformers) (0.24.7)\n",
      "Requirement already satisfied: numpy>=1.17 in /usr/local/lib/python3.10/dist-packages (from transformers) (1.26.4)\n",
      "Requirement already satisfied: packaging>=20.0 in /usr/local/lib/python3.10/dist-packages (from transformers) (24.1)\n",
      "Requirement already satisfied: pyyaml>=5.1 in /usr/local/lib/python3.10/dist-packages (from transformers) (6.0.2)\n",
      "Requirement already satisfied: regex!=2019.12.17 in /usr/local/lib/python3.10/dist-packages (from transformers) (2024.9.11)\n",
      "Requirement already satisfied: requests in /usr/local/lib/python3.10/dist-packages (from transformers) (2.32.3)\n",
      "Requirement already satisfied: safetensors>=0.4.1 in /usr/local/lib/python3.10/dist-packages (from transformers) (0.4.5)\n",
      "Requirement already satisfied: tokenizers<0.20,>=0.19 in /usr/local/lib/python3.10/dist-packages (from transformers) (0.19.1)\n",
      "Requirement already satisfied: tqdm>=4.27 in /usr/local/lib/python3.10/dist-packages (from transformers) (4.66.5)\n",
      "Requirement already satisfied: fsspec>=2023.5.0 in /usr/local/lib/python3.10/dist-packages (from huggingface-hub<1.0,>=0.23.2->transformers) (2024.6.1)\n",
      "Requirement already satisfied: typing-extensions>=3.7.4.3 in /usr/local/lib/python3.10/dist-packages (from huggingface-hub<1.0,>=0.23.2->transformers) (4.12.2)\n",
      "Requirement already satisfied: charset-normalizer<4,>=2 in /usr/local/lib/python3.10/dist-packages (from requests->transformers) (3.3.2)\n",
      "Requirement already satisfied: idna<4,>=2.5 in /usr/local/lib/python3.10/dist-packages (from requests->transformers) (3.10)\n",
      "Requirement already satisfied: urllib3<3,>=1.21.1 in /usr/local/lib/python3.10/dist-packages (from requests->transformers) (2.2.3)\n",
      "Requirement already satisfied: certifi>=2017.4.17 in /usr/local/lib/python3.10/dist-packages (from requests->transformers) (2024.8.30)\n"
     ]
    }
   ],
   "source": [
    "! pip install transformers\n",
    "from transformers import AutoTokenizer\n",
    "from transformers import TFAutoModel\n"
   ]
  },
  {
   "cell_type": "code",
   "execution_count": 16,
   "metadata": {
    "execution": {
     "iopub.execute_input": "2024-12-23T19:15:25.513206Z",
     "iopub.status.busy": "2024-12-23T19:15:25.512957Z",
     "iopub.status.idle": "2024-12-23T19:15:25.729156Z",
     "shell.execute_reply": "2024-12-23T19:15:25.728373Z",
     "shell.execute_reply.started": "2024-12-23T19:15:25.513169Z"
    },
    "trusted": true
   },
   "outputs": [
    {
     "name": "stderr",
     "output_type": "stream",
     "text": [
      "/usr/local/lib/python3.10/dist-packages/transformers/tokenization_utils_base.py:1601: FutureWarning: `clean_up_tokenization_spaces` was not set. It will be set to `True` by default. This behavior will be depracted in transformers v4.45, and will be then set to `False` by default. For more details check this issue: https://github.com/huggingface/transformers/issues/31884\n",
      "  warnings.warn(\n"
     ]
    }
   ],
   "source": [
    "tokenizer = AutoTokenizer.from_pretrained('distilbert-base-uncased')\n",
    "\n"
   ]
  },
  {
   "cell_type": "code",
   "execution_count": 17,
   "metadata": {
    "execution": {
     "iopub.execute_input": "2024-12-23T19:15:25.730153Z",
     "iopub.status.busy": "2024-12-23T19:15:25.729940Z",
     "iopub.status.idle": "2024-12-23T19:15:26.966955Z",
     "shell.execute_reply": "2024-12-23T19:15:26.966217Z",
     "shell.execute_reply.started": "2024-12-23T19:15:25.730134Z"
    },
    "trusted": true
   },
   "outputs": [],
   "source": [
    "encoded_X_train=list(range(len(X_train)))\n",
    "encoded_X_train = tokenizer(\n",
    "    X_train,\n",
    "    add_special_tokens=True,\n",
    "    max_length=128,\n",
    "    padding=\"max_length\",\n",
    "    truncation=True,\n",
    "    return_tensors=\"np\"\n",
    ")\n",
    "\n",
    "X_input_ids = encoded_X_train[\"input_ids\"]\n",
    "X_attention_masks = encoded_X_train[\"attention_mask\"]"
   ]
  },
  {
   "cell_type": "code",
   "execution_count": 18,
   "metadata": {
    "execution": {
     "iopub.execute_input": "2024-12-23T19:15:26.968022Z",
     "iopub.status.busy": "2024-12-23T19:15:26.967756Z",
     "iopub.status.idle": "2024-12-23T19:15:27.113389Z",
     "shell.execute_reply": "2024-12-23T19:15:27.112665Z",
     "shell.execute_reply.started": "2024-12-23T19:15:26.968001Z"
    },
    "trusted": true
   },
   "outputs": [],
   "source": [
    "encoded_X_valid = tokenizer(\n",
    "    X_valid,\n",
    "    add_special_tokens=True,\n",
    "    max_length=128,\n",
    "    padding=\"max_length\",\n",
    "    truncation=True,\n",
    "    return_tensors=\"np\"\n",
    ")\n",
    "X_valid_input_ids = encoded_X_valid[\"input_ids\"]\n",
    "X_valid_attention_masks = encoded_X_valid[\"attention_mask\"]"
   ]
  },
  {
   "cell_type": "code",
   "execution_count": 19,
   "metadata": {
    "execution": {
     "iopub.execute_input": "2024-12-23T19:15:27.114549Z",
     "iopub.status.busy": "2024-12-23T19:15:27.114334Z",
     "iopub.status.idle": "2024-12-23T19:15:27.119777Z",
     "shell.execute_reply": "2024-12-23T19:15:27.119095Z",
     "shell.execute_reply.started": "2024-12-23T19:15:27.114531Z"
    },
    "id": "51KLqa7gIWpM",
    "outputId": "23163544-9274-44b7-9704-c40f391cda92",
    "trusted": true
   },
   "outputs": [
    {
     "data": {
      "text/plain": [
       "array([[  101,  1996,  5056, ...,     0,     0,     0],\n",
       "       [  101,  2012,  2777, ...,     0,     0,     0],\n",
       "       [  101, 29583,  2003, ...,     0,     0,     0],\n",
       "       ...,\n",
       "       [  101,  8529,  1010, ...,     0,     0,     0],\n",
       "       [  101,  1045,  2333, ...,     0,     0,     0],\n",
       "       [  101,  4058,   999, ...,     0,     0,     0]])"
      ]
     },
     "execution_count": 19,
     "metadata": {},
     "output_type": "execute_result"
    }
   ],
   "source": [
    "X_input_ids"
   ]
  },
  {
   "cell_type": "code",
   "execution_count": 20,
   "metadata": {
    "execution": {
     "iopub.execute_input": "2024-12-23T19:15:27.120725Z",
     "iopub.status.busy": "2024-12-23T19:15:27.120526Z",
     "iopub.status.idle": "2024-12-23T19:15:27.135943Z",
     "shell.execute_reply": "2024-12-23T19:15:27.135132Z",
     "shell.execute_reply.started": "2024-12-23T19:15:27.120707Z"
    },
    "id": "lbaBNNnUIeJM",
    "outputId": "b9453271-0196-4e28-fa36-e7bb7d6c8ec6",
    "trusted": true
   },
   "outputs": [
    {
     "data": {
      "text/plain": [
       "(11204, 128)"
      ]
     },
     "execution_count": 20,
     "metadata": {},
     "output_type": "execute_result"
    }
   ],
   "source": [
    "X_attention_masks.shape\n"
   ]
  },
  {
   "cell_type": "markdown",
   "metadata": {},
   "source": [
    "# Positional embedding"
   ]
  },
  {
   "cell_type": "code",
   "execution_count": null,
   "metadata": {},
   "outputs": [],
   "source": [
    "import numpy as np\n",
    "def get_pos_encoding_matrix(max_position,d_model, n=10000):\n",
    "    position = np.arange(max_position) # generates [0,1,2,...,max_pos]\n",
    "    embedding=np.arange(d_model)//2 # generates [0,0,1,1,...,d_model]\n",
    "    freqs = n**(2*embedding/d_model)\n",
    "    pos_enc = position.reshape(-1,1)*freqs.reshape(1,-1)\n",
    "    pos_enc[:, ::2] = np.sin(pos_enc[:, ::2])\n",
    "    pos_enc[:, 1::2] = np.cos(pos_enc[:, 1::2])\n",
    "    return pos_enc\n",
    "# POS = get_pos_encoding_matrix(seq_len,hidden_size)"
   ]
  },
  {
   "cell_type": "code",
   "execution_count": 21,
   "metadata": {
    "execution": {
     "iopub.execute_input": "2024-12-23T19:15:27.136933Z",
     "iopub.status.busy": "2024-12-23T19:15:27.136656Z",
     "iopub.status.idle": "2024-12-23T19:15:30.502862Z",
     "shell.execute_reply": "2024-12-23T19:15:30.502189Z",
     "shell.execute_reply.started": "2024-12-23T19:15:27.136907Z"
    },
    "trusted": true
   },
   "outputs": [
    {
     "name": "stderr",
     "output_type": "stream",
     "text": [
      "Some weights of the PyTorch model were not used when initializing the TF 2.0 model TFDistilBertModel: ['vocab_transform.bias', 'vocab_transform.weight', 'vocab_layer_norm.bias', 'vocab_layer_norm.weight', 'vocab_projector.bias']\n",
      "- This IS expected if you are initializing TFDistilBertModel from a PyTorch model trained on another task or with another architecture (e.g. initializing a TFBertForSequenceClassification model from a BertForPreTraining model).\n",
      "- This IS NOT expected if you are initializing TFDistilBertModel from a PyTorch model that you expect to be exactly identical (e.g. initializing a TFBertForSequenceClassification model from a BertForSequenceClassification model).\n",
      "All the weights of TFDistilBertModel were initialized from the PyTorch model.\n",
      "If your task is similar to the task the model of the checkpoint was trained on, you can already use TFDistilBertModel for predictions without further training.\n"
     ]
    }
   ],
   "source": [
    "transformer_model = TFAutoModel.from_pretrained('distilbert-base-uncased')\n"
   ]
  },
  {
   "cell_type": "code",
   "execution_count": 22,
   "metadata": {
    "execution": {
     "iopub.execute_input": "2024-12-23T19:15:30.503993Z",
     "iopub.status.busy": "2024-12-23T19:15:30.503684Z",
     "iopub.status.idle": "2024-12-23T19:16:37.501661Z",
     "shell.execute_reply": "2024-12-23T19:16:37.500886Z",
     "shell.execute_reply.started": "2024-12-23T19:15:30.503959Z"
    },
    "id": "ZeOVaH_lENnS",
    "outputId": "d76def96-2b41-403a-e4d3-ea05cddbb7fa",
    "trusted": true
   },
   "outputs": [],
   "source": [
    "batch_size = 32  \n",
    "total_samples = X_input_ids.shape[0]\n",
    "hidden_size = 768  \n",
    "seq_len = X_input_ids.shape[1]\n",
    "\n",
    "X_embeddings = np.zeros((total_samples, seq_len, hidden_size))\n",
    "\n",
    "# Processing the whole data crashes due to memory constraints, so we will process in batches of 32 samples\n",
    "for start_idx in range(0, total_samples, batch_size):\n",
    "    end_idx = min(start_idx + batch_size, total_samples)\n",
    "    batch_input_ids = X_input_ids[start_idx:end_idx]\n",
    "    batch_attention_masks = X_attention_masks[start_idx:end_idx]\n",
    "    \n",
    "    batch_output = transformer_model(batch_input_ids, attention_mask=batch_attention_masks).last_hidden_state\n",
    "    \n",
    "    X_embeddings[start_idx:end_idx] = batch_output.numpy() # + POS\n",
    "\n",
    "total_samples = X_valid_input_ids.shape[0]\n",
    "X_valid_embeddings = np.zeros((total_samples, seq_len, hidden_size))\n",
    "\n",
    "for start_idx in range(0, total_samples, batch_size):\n",
    "    end_idx = min(start_idx + batch_size, total_samples)\n",
    "    batch_input_ids = X_valid_input_ids[start_idx:end_idx]\n",
    "    batch_attention_masks = X_valid_attention_masks[start_idx:end_idx]\n",
    "    \n",
    "    batch_output = transformer_model(batch_input_ids, attention_mask=batch_attention_masks).last_hidden_state\n",
    "    \n",
    "    X_valid_embeddings[start_idx:end_idx] = batch_output.numpy() # + POS\n",
    "\n"
   ]
  },
  {
   "cell_type": "code",
   "execution_count": 23,
   "metadata": {
    "execution": {
     "iopub.execute_input": "2024-12-23T19:16:37.505257Z",
     "iopub.status.busy": "2024-12-23T19:16:37.504995Z",
     "iopub.status.idle": "2024-12-23T19:16:37.510446Z",
     "shell.execute_reply": "2024-12-23T19:16:37.509434Z",
     "shell.execute_reply.started": "2024-12-23T19:16:37.505235Z"
    },
    "id": "KtQ7o6F6OA6T",
    "trusted": true
   },
   "outputs": [
    {
     "data": {
      "text/plain": [
       "(128, 768)"
      ]
     },
     "execution_count": 23,
     "metadata": {},
     "output_type": "execute_result"
    }
   ],
   "source": [
    "X_embeddings[0].shape"
   ]
  },
  {
   "cell_type": "code",
   "execution_count": 24,
   "metadata": {
    "execution": {
     "iopub.execute_input": "2024-12-23T19:16:37.511927Z",
     "iopub.status.busy": "2024-12-23T19:16:37.511607Z",
     "iopub.status.idle": "2024-12-23T19:16:37.526148Z",
     "shell.execute_reply": "2024-12-23T19:16:37.525450Z",
     "shell.execute_reply.started": "2024-12-23T19:16:37.511896Z"
    },
    "trusted": true
   },
   "outputs": [
    {
     "data": {
      "text/plain": [
       "(128, 768)"
      ]
     },
     "execution_count": 24,
     "metadata": {},
     "output_type": "execute_result"
    }
   ],
   "source": [
    "X_valid_embeddings[0].shape"
   ]
  },
  {
   "cell_type": "code",
   "execution_count": 25,
   "metadata": {
    "execution": {
     "iopub.execute_input": "2024-12-23T19:16:37.527399Z",
     "iopub.status.busy": "2024-12-23T19:16:37.527116Z",
     "iopub.status.idle": "2024-12-23T19:16:37.542121Z",
     "shell.execute_reply": "2024-12-23T19:16:37.541308Z",
     "shell.execute_reply.started": "2024-12-23T19:16:37.527377Z"
    },
    "trusted": true
   },
   "outputs": [
    {
     "data": {
      "text/plain": [
       "array([[[-0.0252765 ,  0.06586355,  0.03916127, ...,  0.03105751,\n",
       "          0.47747347,  0.32698092],\n",
       "        [-0.05776632,  0.07927404, -0.07407765, ...,  0.22486848,\n",
       "          0.52158099,  0.19623813],\n",
       "        [-0.05895076,  0.36125568,  0.37599421, ...,  0.02272255,\n",
       "          0.37893316,  0.1830285 ],\n",
       "        ...,\n",
       "        [ 0.04978791,  0.23749354,  0.26954299, ...,  0.18898943,\n",
       "          0.03557941, -0.01399909],\n",
       "        [ 0.04617302,  0.25647879,  0.38225645, ...,  0.24241517,\n",
       "         -0.09111279, -0.15216722],\n",
       "        [ 0.07392971,  0.21142869,  0.27393419, ...,  0.26004124,\n",
       "         -0.06132312, -0.16935758]],\n",
       "\n",
       "       [[-0.45035529, -0.35580668, -0.3469713 , ..., -0.27404499,\n",
       "          0.35337454,  0.26601994],\n",
       "        [-0.57584059,  0.13661504, -0.33406371, ..., -0.21729708,\n",
       "          0.15921444,  0.25057498],\n",
       "        [-0.09335721,  0.050469  , -0.41342187, ..., -0.12656078,\n",
       "          0.12664047, -0.12126939],\n",
       "        ...,\n",
       "        [-0.03673357,  0.08808765,  0.09505028, ..., -0.16335574,\n",
       "          0.06032568,  0.28811517],\n",
       "        [ 0.04980737,  0.00822593, -0.01784454, ..., -0.13728771,\n",
       "          0.11192435,  0.18657397],\n",
       "        [-0.0349396 , -0.02386815,  0.1423381 , ..., -0.05168839,\n",
       "          0.04794625,  0.21041699]],\n",
       "\n",
       "       [[ 0.06506443, -0.18691272,  0.25685078, ...,  0.10449212,\n",
       "          0.63679266,  0.45951697],\n",
       "        [-0.18775465, -0.63986123,  0.29514104, ...,  0.30969957,\n",
       "          1.06520617,  0.53048801],\n",
       "        [ 0.4468171 , -0.5558601 ,  0.51530635, ...,  0.45810863,\n",
       "          0.5621146 ,  0.42018616],\n",
       "        ...,\n",
       "        [-0.00441421, -0.03056126,  0.34533697, ...,  0.12801996,\n",
       "          0.10073534,  0.13698258],\n",
       "        [ 0.0944407 , -0.09456217,  0.46204442, ...,  0.26408806,\n",
       "          0.16258773,  0.19847941],\n",
       "        [ 0.21402869, -0.10857689,  0.48008668, ...,  0.25723878,\n",
       "          0.1675037 ,  0.18537451]],\n",
       "\n",
       "       ...,\n",
       "\n",
       "       [[-0.34767944, -0.1946709 , -0.03573684, ..., -0.34884691,\n",
       "          0.19547027,  0.61960137],\n",
       "        [-0.33056986, -0.29180643,  0.15061122, ..., -0.36271185,\n",
       "         -0.0932333 ,  0.39298323],\n",
       "        [-0.0573823 ,  0.1039317 ,  0.41750205, ..., -0.4541198 ,\n",
       "          0.10725802, -0.21617138],\n",
       "        ...,\n",
       "        [-0.13858928,  0.11309232,  0.49833697, ..., -0.34066263,\n",
       "         -0.27333316,  0.5873549 ],\n",
       "        [-0.07358325,  0.17213833,  0.49067655, ..., -0.26464167,\n",
       "         -0.05226504,  0.20267509],\n",
       "        [-0.24343888,  0.09048618,  0.4199869 , ..., -0.21941292,\n",
       "         -0.37938467,  0.3724381 ]],\n",
       "\n",
       "       [[-0.00266377, -0.27073273, -0.35072643, ..., -0.1272033 ,\n",
       "          0.19414781,  0.46000463],\n",
       "        [ 0.32377201, -0.21679486, -0.45709926, ..., -0.2815688 ,\n",
       "          0.49672464, -0.38490725],\n",
       "        [ 0.78601909,  0.23855233, -0.35474753, ..., -0.2693626 ,\n",
       "         -0.09278379, -0.008228  ],\n",
       "        ...,\n",
       "        [-0.10884348,  0.08267948,  0.07443549, ..., -0.10084735,\n",
       "          0.02313792,  0.20974341],\n",
       "        [-0.12566508, -0.13285495, -0.00821424, ..., -0.07988908,\n",
       "          0.01059571,  0.15698965],\n",
       "        [-0.14548165, -0.13708675,  0.06312302, ..., -0.02747689,\n",
       "         -0.07904976,  0.0225112 ]],\n",
       "\n",
       "       [[-0.07201529, -0.0245093 ,  0.10887846, ..., -0.06162461,\n",
       "          0.2681089 ,  0.43312138],\n",
       "        [-0.36426231, -0.27772763, -0.17904255, ...,  0.27935007,\n",
       "          0.78208131,  0.06663974],\n",
       "        [ 0.48029989, -0.155641  , -0.11793546, ..., -0.16527057,\n",
       "          0.35487872, -0.00443073],\n",
       "        ...,\n",
       "        [ 0.33378419,  0.07550434, -0.00837813, ..., -0.03105836,\n",
       "         -0.02579462,  0.26779318],\n",
       "        [-0.27572545, -0.08445287,  0.31263876, ..., -0.09126749,\n",
       "         -0.16498676,  0.26335135],\n",
       "        [ 0.00753979,  0.24957189,  0.26159742, ...,  0.03356039,\n",
       "         -0.06307387, -0.03881275]]])"
      ]
     },
     "execution_count": 25,
     "metadata": {},
     "output_type": "execute_result"
    }
   ],
   "source": [
    "X_valid_embeddings"
   ]
  },
  {
   "cell_type": "code",
   "execution_count": 26,
   "metadata": {
    "execution": {
     "iopub.execute_input": "2024-12-23T19:16:37.543109Z",
     "iopub.status.busy": "2024-12-23T19:16:37.542840Z",
     "iopub.status.idle": "2024-12-23T19:16:37.554937Z",
     "shell.execute_reply": "2024-12-23T19:16:37.554259Z",
     "shell.execute_reply.started": "2024-12-23T19:16:37.543087Z"
    },
    "trusted": true
   },
   "outputs": [],
   "source": [
    "#from tensorflow.keras import mixed_precision\n",
    "#mixed_precision.set_global_policy('mixed_float16')"
   ]
  },
  {
   "cell_type": "code",
   "execution_count": 27,
   "metadata": {
    "execution": {
     "iopub.execute_input": "2024-12-23T19:16:37.556068Z",
     "iopub.status.busy": "2024-12-23T19:16:37.555759Z",
     "iopub.status.idle": "2024-12-23T19:16:37.837089Z",
     "shell.execute_reply": "2024-12-23T19:16:37.836453Z",
     "shell.execute_reply.started": "2024-12-23T19:16:37.556036Z"
    },
    "id": "aH8kw8htbPer",
    "trusted": true
   },
   "outputs": [
    {
     "name": "stdout",
     "output_type": "stream",
     "text": [
      "Number of devices: 2\n"
     ]
    },
    {
     "data": {
      "text/html": [
       "<pre style=\"white-space:pre;overflow-x:auto;line-height:normal;font-family:Menlo,'DejaVu Sans Mono',consolas,'Courier New',monospace\"><span style=\"font-weight: bold\">Model: \"functional\"</span>\n",
       "</pre>\n"
      ],
      "text/plain": [
       "\u001b[1mModel: \"functional\"\u001b[0m\n"
      ]
     },
     "metadata": {},
     "output_type": "display_data"
    },
    {
     "data": {
      "text/html": [
       "<pre style=\"white-space:pre;overflow-x:auto;line-height:normal;font-family:Menlo,'DejaVu Sans Mono',consolas,'Courier New',monospace\">┏━━━━━━━━━━━━━━━━━━━━━━━━━━━┳━━━━━━━━━━━━━━━━━━━━━━━━┳━━━━━━━━━━━━━━━━┳━━━━━━━━━━━━━━━━━━━━━━━━┓\n",
       "┃<span style=\"font-weight: bold\"> Layer (type)              </span>┃<span style=\"font-weight: bold\"> Output Shape           </span>┃<span style=\"font-weight: bold\">        Param # </span>┃<span style=\"font-weight: bold\"> Connected to           </span>┃\n",
       "┡━━━━━━━━━━━━━━━━━━━━━━━━━━━╇━━━━━━━━━━━━━━━━━━━━━━━━╇━━━━━━━━━━━━━━━━╇━━━━━━━━━━━━━━━━━━━━━━━━┩\n",
       "│ input (<span style=\"color: #0087ff; text-decoration-color: #0087ff\">InputLayer</span>)        │ (<span style=\"color: #00d7ff; text-decoration-color: #00d7ff\">None</span>, <span style=\"color: #00af00; text-decoration-color: #00af00\">128</span>, <span style=\"color: #00af00; text-decoration-color: #00af00\">768</span>)       │              <span style=\"color: #00af00; text-decoration-color: #00af00\">0</span> │ -                      │\n",
       "├───────────────────────────┼────────────────────────┼────────────────┼────────────────────────┤\n",
       "│ layer_normalization       │ (<span style=\"color: #00d7ff; text-decoration-color: #00d7ff\">None</span>, <span style=\"color: #00af00; text-decoration-color: #00af00\">128</span>, <span style=\"color: #00af00; text-decoration-color: #00af00\">768</span>)       │          <span style=\"color: #00af00; text-decoration-color: #00af00\">1,536</span> │ input[<span style=\"color: #00af00; text-decoration-color: #00af00\">0</span>][<span style=\"color: #00af00; text-decoration-color: #00af00\">0</span>]            │\n",
       "│ (<span style=\"color: #0087ff; text-decoration-color: #0087ff\">LayerNormalization</span>)      │                        │                │                        │\n",
       "├───────────────────────────┼────────────────────────┼────────────────┼────────────────────────┤\n",
       "│ dense (<span style=\"color: #0087ff; text-decoration-color: #0087ff\">Dense</span>)             │ (<span style=\"color: #00d7ff; text-decoration-color: #00d7ff\">None</span>, <span style=\"color: #00af00; text-decoration-color: #00af00\">128</span>, <span style=\"color: #00af00; text-decoration-color: #00af00\">256</span>)       │        <span style=\"color: #00af00; text-decoration-color: #00af00\">196,864</span> │ layer_normalization[<span style=\"color: #00af00; text-decoration-color: #00af00\">0</span>… │\n",
       "├───────────────────────────┼────────────────────────┼────────────────┼────────────────────────┤\n",
       "│ multi_head_attention      │ (<span style=\"color: #00d7ff; text-decoration-color: #00d7ff\">None</span>, <span style=\"color: #00af00; text-decoration-color: #00af00\">128</span>, <span style=\"color: #00af00; text-decoration-color: #00af00\">256</span>)       │      <span style=\"color: #00af00; text-decoration-color: #00af00\">1,577,728</span> │ dense[<span style=\"color: #00af00; text-decoration-color: #00af00\">0</span>][<span style=\"color: #00af00; text-decoration-color: #00af00\">0</span>],           │\n",
       "│ (<span style=\"color: #0087ff; text-decoration-color: #0087ff\">MultiHeadAttention</span>)      │                        │                │ dense[<span style=\"color: #00af00; text-decoration-color: #00af00\">0</span>][<span style=\"color: #00af00; text-decoration-color: #00af00\">0</span>],           │\n",
       "│                           │                        │                │ dense[<span style=\"color: #00af00; text-decoration-color: #00af00\">0</span>][<span style=\"color: #00af00; text-decoration-color: #00af00\">0</span>]            │\n",
       "├───────────────────────────┼────────────────────────┼────────────────┼────────────────────────┤\n",
       "│ dropout_1 (<span style=\"color: #0087ff; text-decoration-color: #0087ff\">Dropout</span>)       │ (<span style=\"color: #00d7ff; text-decoration-color: #00d7ff\">None</span>, <span style=\"color: #00af00; text-decoration-color: #00af00\">128</span>, <span style=\"color: #00af00; text-decoration-color: #00af00\">256</span>)       │              <span style=\"color: #00af00; text-decoration-color: #00af00\">0</span> │ multi_head_attention[<span style=\"color: #00af00; text-decoration-color: #00af00\">…</span> │\n",
       "├───────────────────────────┼────────────────────────┼────────────────┼────────────────────────┤\n",
       "│ add (<span style=\"color: #0087ff; text-decoration-color: #0087ff\">Add</span>)                 │ (<span style=\"color: #00d7ff; text-decoration-color: #00d7ff\">None</span>, <span style=\"color: #00af00; text-decoration-color: #00af00\">128</span>, <span style=\"color: #00af00; text-decoration-color: #00af00\">256</span>)       │              <span style=\"color: #00af00; text-decoration-color: #00af00\">0</span> │ dense[<span style=\"color: #00af00; text-decoration-color: #00af00\">0</span>][<span style=\"color: #00af00; text-decoration-color: #00af00\">0</span>],           │\n",
       "│                           │                        │                │ dropout_1[<span style=\"color: #00af00; text-decoration-color: #00af00\">0</span>][<span style=\"color: #00af00; text-decoration-color: #00af00\">0</span>]        │\n",
       "├───────────────────────────┼────────────────────────┼────────────────┼────────────────────────┤\n",
       "│ layer_normalization_1     │ (<span style=\"color: #00d7ff; text-decoration-color: #00d7ff\">None</span>, <span style=\"color: #00af00; text-decoration-color: #00af00\">128</span>, <span style=\"color: #00af00; text-decoration-color: #00af00\">256</span>)       │            <span style=\"color: #00af00; text-decoration-color: #00af00\">512</span> │ add[<span style=\"color: #00af00; text-decoration-color: #00af00\">0</span>][<span style=\"color: #00af00; text-decoration-color: #00af00\">0</span>]              │\n",
       "│ (<span style=\"color: #0087ff; text-decoration-color: #0087ff\">LayerNormalization</span>)      │                        │                │                        │\n",
       "├───────────────────────────┼────────────────────────┼────────────────┼────────────────────────┤\n",
       "│ dense_1 (<span style=\"color: #0087ff; text-decoration-color: #0087ff\">Dense</span>)           │ (<span style=\"color: #00d7ff; text-decoration-color: #00d7ff\">None</span>, <span style=\"color: #00af00; text-decoration-color: #00af00\">128</span>, <span style=\"color: #00af00; text-decoration-color: #00af00\">128</span>)       │         <span style=\"color: #00af00; text-decoration-color: #00af00\">32,896</span> │ layer_normalization_1… │\n",
       "├───────────────────────────┼────────────────────────┼────────────────┼────────────────────────┤\n",
       "│ dense_2 (<span style=\"color: #0087ff; text-decoration-color: #0087ff\">Dense</span>)           │ (<span style=\"color: #00d7ff; text-decoration-color: #00d7ff\">None</span>, <span style=\"color: #00af00; text-decoration-color: #00af00\">128</span>, <span style=\"color: #00af00; text-decoration-color: #00af00\">128</span>)       │         <span style=\"color: #00af00; text-decoration-color: #00af00\">16,512</span> │ dense_1[<span style=\"color: #00af00; text-decoration-color: #00af00\">0</span>][<span style=\"color: #00af00; text-decoration-color: #00af00\">0</span>]          │\n",
       "├───────────────────────────┼────────────────────────┼────────────────┼────────────────────────┤\n",
       "│ dropout_3 (<span style=\"color: #0087ff; text-decoration-color: #0087ff\">Dropout</span>)       │ (<span style=\"color: #00d7ff; text-decoration-color: #00d7ff\">None</span>, <span style=\"color: #00af00; text-decoration-color: #00af00\">128</span>, <span style=\"color: #00af00; text-decoration-color: #00af00\">128</span>)       │              <span style=\"color: #00af00; text-decoration-color: #00af00\">0</span> │ dense_2[<span style=\"color: #00af00; text-decoration-color: #00af00\">0</span>][<span style=\"color: #00af00; text-decoration-color: #00af00\">0</span>]          │\n",
       "├───────────────────────────┼────────────────────────┼────────────────┼────────────────────────┤\n",
       "│ add_1 (<span style=\"color: #0087ff; text-decoration-color: #0087ff\">Add</span>)               │ (<span style=\"color: #00d7ff; text-decoration-color: #00d7ff\">None</span>, <span style=\"color: #00af00; text-decoration-color: #00af00\">128</span>, <span style=\"color: #00af00; text-decoration-color: #00af00\">128</span>)       │              <span style=\"color: #00af00; text-decoration-color: #00af00\">0</span> │ dropout_3[<span style=\"color: #00af00; text-decoration-color: #00af00\">0</span>][<span style=\"color: #00af00; text-decoration-color: #00af00\">0</span>],       │\n",
       "│                           │                        │                │ dense_1[<span style=\"color: #00af00; text-decoration-color: #00af00\">0</span>][<span style=\"color: #00af00; text-decoration-color: #00af00\">0</span>]          │\n",
       "├───────────────────────────┼────────────────────────┼────────────────┼────────────────────────┤\n",
       "│ layer_normalization_2     │ (<span style=\"color: #00d7ff; text-decoration-color: #00d7ff\">None</span>, <span style=\"color: #00af00; text-decoration-color: #00af00\">128</span>, <span style=\"color: #00af00; text-decoration-color: #00af00\">128</span>)       │            <span style=\"color: #00af00; text-decoration-color: #00af00\">256</span> │ add_1[<span style=\"color: #00af00; text-decoration-color: #00af00\">0</span>][<span style=\"color: #00af00; text-decoration-color: #00af00\">0</span>]            │\n",
       "│ (<span style=\"color: #0087ff; text-decoration-color: #0087ff\">LayerNormalization</span>)      │                        │                │                        │\n",
       "├───────────────────────────┼────────────────────────┼────────────────┼────────────────────────┤\n",
       "│ global_average_pooling1d  │ (<span style=\"color: #00d7ff; text-decoration-color: #00d7ff\">None</span>, <span style=\"color: #00af00; text-decoration-color: #00af00\">128</span>)            │              <span style=\"color: #00af00; text-decoration-color: #00af00\">0</span> │ layer_normalization_2… │\n",
       "│ (<span style=\"color: #0087ff; text-decoration-color: #0087ff\">GlobalAveragePooling1D</span>)  │                        │                │                        │\n",
       "├───────────────────────────┼────────────────────────┼────────────────┼────────────────────────┤\n",
       "│ dense_3 (<span style=\"color: #0087ff; text-decoration-color: #0087ff\">Dense</span>)           │ (<span style=\"color: #00d7ff; text-decoration-color: #00d7ff\">None</span>, <span style=\"color: #00af00; text-decoration-color: #00af00\">64</span>)             │          <span style=\"color: #00af00; text-decoration-color: #00af00\">8,256</span> │ global_average_poolin… │\n",
       "├───────────────────────────┼────────────────────────┼────────────────┼────────────────────────┤\n",
       "│ dropout_4 (<span style=\"color: #0087ff; text-decoration-color: #0087ff\">Dropout</span>)       │ (<span style=\"color: #00d7ff; text-decoration-color: #00d7ff\">None</span>, <span style=\"color: #00af00; text-decoration-color: #00af00\">64</span>)             │              <span style=\"color: #00af00; text-decoration-color: #00af00\">0</span> │ dense_3[<span style=\"color: #00af00; text-decoration-color: #00af00\">0</span>][<span style=\"color: #00af00; text-decoration-color: #00af00\">0</span>]          │\n",
       "├───────────────────────────┼────────────────────────┼────────────────┼────────────────────────┤\n",
       "│ dense_4 (<span style=\"color: #0087ff; text-decoration-color: #0087ff\">Dense</span>)           │ (<span style=\"color: #00d7ff; text-decoration-color: #00d7ff\">None</span>, <span style=\"color: #00af00; text-decoration-color: #00af00\">32</span>)             │          <span style=\"color: #00af00; text-decoration-color: #00af00\">2,080</span> │ dropout_4[<span style=\"color: #00af00; text-decoration-color: #00af00\">0</span>][<span style=\"color: #00af00; text-decoration-color: #00af00\">0</span>]        │\n",
       "├───────────────────────────┼────────────────────────┼────────────────┼────────────────────────┤\n",
       "│ dropout_5 (<span style=\"color: #0087ff; text-decoration-color: #0087ff\">Dropout</span>)       │ (<span style=\"color: #00d7ff; text-decoration-color: #00d7ff\">None</span>, <span style=\"color: #00af00; text-decoration-color: #00af00\">32</span>)             │              <span style=\"color: #00af00; text-decoration-color: #00af00\">0</span> │ dense_4[<span style=\"color: #00af00; text-decoration-color: #00af00\">0</span>][<span style=\"color: #00af00; text-decoration-color: #00af00\">0</span>]          │\n",
       "├───────────────────────────┼────────────────────────┼────────────────┼────────────────────────┤\n",
       "│ dense_5 (<span style=\"color: #0087ff; text-decoration-color: #0087ff\">Dense</span>)           │ (<span style=\"color: #00d7ff; text-decoration-color: #00d7ff\">None</span>, <span style=\"color: #00af00; text-decoration-color: #00af00\">5</span>)              │            <span style=\"color: #00af00; text-decoration-color: #00af00\">165</span> │ dropout_5[<span style=\"color: #00af00; text-decoration-color: #00af00\">0</span>][<span style=\"color: #00af00; text-decoration-color: #00af00\">0</span>]        │\n",
       "└───────────────────────────┴────────────────────────┴────────────────┴────────────────────────┘\n",
       "</pre>\n"
      ],
      "text/plain": [
       "┏━━━━━━━━━━━━━━━━━━━━━━━━━━━┳━━━━━━━━━━━━━━━━━━━━━━━━┳━━━━━━━━━━━━━━━━┳━━━━━━━━━━━━━━━━━━━━━━━━┓\n",
       "┃\u001b[1m \u001b[0m\u001b[1mLayer (type)             \u001b[0m\u001b[1m \u001b[0m┃\u001b[1m \u001b[0m\u001b[1mOutput Shape          \u001b[0m\u001b[1m \u001b[0m┃\u001b[1m \u001b[0m\u001b[1m       Param #\u001b[0m\u001b[1m \u001b[0m┃\u001b[1m \u001b[0m\u001b[1mConnected to          \u001b[0m\u001b[1m \u001b[0m┃\n",
       "┡━━━━━━━━━━━━━━━━━━━━━━━━━━━╇━━━━━━━━━━━━━━━━━━━━━━━━╇━━━━━━━━━━━━━━━━╇━━━━━━━━━━━━━━━━━━━━━━━━┩\n",
       "│ input (\u001b[38;5;33mInputLayer\u001b[0m)        │ (\u001b[38;5;45mNone\u001b[0m, \u001b[38;5;34m128\u001b[0m, \u001b[38;5;34m768\u001b[0m)       │              \u001b[38;5;34m0\u001b[0m │ -                      │\n",
       "├───────────────────────────┼────────────────────────┼────────────────┼────────────────────────┤\n",
       "│ layer_normalization       │ (\u001b[38;5;45mNone\u001b[0m, \u001b[38;5;34m128\u001b[0m, \u001b[38;5;34m768\u001b[0m)       │          \u001b[38;5;34m1,536\u001b[0m │ input[\u001b[38;5;34m0\u001b[0m][\u001b[38;5;34m0\u001b[0m]            │\n",
       "│ (\u001b[38;5;33mLayerNormalization\u001b[0m)      │                        │                │                        │\n",
       "├───────────────────────────┼────────────────────────┼────────────────┼────────────────────────┤\n",
       "│ dense (\u001b[38;5;33mDense\u001b[0m)             │ (\u001b[38;5;45mNone\u001b[0m, \u001b[38;5;34m128\u001b[0m, \u001b[38;5;34m256\u001b[0m)       │        \u001b[38;5;34m196,864\u001b[0m │ layer_normalization[\u001b[38;5;34m0\u001b[0m… │\n",
       "├───────────────────────────┼────────────────────────┼────────────────┼────────────────────────┤\n",
       "│ multi_head_attention      │ (\u001b[38;5;45mNone\u001b[0m, \u001b[38;5;34m128\u001b[0m, \u001b[38;5;34m256\u001b[0m)       │      \u001b[38;5;34m1,577,728\u001b[0m │ dense[\u001b[38;5;34m0\u001b[0m][\u001b[38;5;34m0\u001b[0m],           │\n",
       "│ (\u001b[38;5;33mMultiHeadAttention\u001b[0m)      │                        │                │ dense[\u001b[38;5;34m0\u001b[0m][\u001b[38;5;34m0\u001b[0m],           │\n",
       "│                           │                        │                │ dense[\u001b[38;5;34m0\u001b[0m][\u001b[38;5;34m0\u001b[0m]            │\n",
       "├───────────────────────────┼────────────────────────┼────────────────┼────────────────────────┤\n",
       "│ dropout_1 (\u001b[38;5;33mDropout\u001b[0m)       │ (\u001b[38;5;45mNone\u001b[0m, \u001b[38;5;34m128\u001b[0m, \u001b[38;5;34m256\u001b[0m)       │              \u001b[38;5;34m0\u001b[0m │ multi_head_attention[\u001b[38;5;34m…\u001b[0m │\n",
       "├───────────────────────────┼────────────────────────┼────────────────┼────────────────────────┤\n",
       "│ add (\u001b[38;5;33mAdd\u001b[0m)                 │ (\u001b[38;5;45mNone\u001b[0m, \u001b[38;5;34m128\u001b[0m, \u001b[38;5;34m256\u001b[0m)       │              \u001b[38;5;34m0\u001b[0m │ dense[\u001b[38;5;34m0\u001b[0m][\u001b[38;5;34m0\u001b[0m],           │\n",
       "│                           │                        │                │ dropout_1[\u001b[38;5;34m0\u001b[0m][\u001b[38;5;34m0\u001b[0m]        │\n",
       "├───────────────────────────┼────────────────────────┼────────────────┼────────────────────────┤\n",
       "│ layer_normalization_1     │ (\u001b[38;5;45mNone\u001b[0m, \u001b[38;5;34m128\u001b[0m, \u001b[38;5;34m256\u001b[0m)       │            \u001b[38;5;34m512\u001b[0m │ add[\u001b[38;5;34m0\u001b[0m][\u001b[38;5;34m0\u001b[0m]              │\n",
       "│ (\u001b[38;5;33mLayerNormalization\u001b[0m)      │                        │                │                        │\n",
       "├───────────────────────────┼────────────────────────┼────────────────┼────────────────────────┤\n",
       "│ dense_1 (\u001b[38;5;33mDense\u001b[0m)           │ (\u001b[38;5;45mNone\u001b[0m, \u001b[38;5;34m128\u001b[0m, \u001b[38;5;34m128\u001b[0m)       │         \u001b[38;5;34m32,896\u001b[0m │ layer_normalization_1… │\n",
       "├───────────────────────────┼────────────────────────┼────────────────┼────────────────────────┤\n",
       "│ dense_2 (\u001b[38;5;33mDense\u001b[0m)           │ (\u001b[38;5;45mNone\u001b[0m, \u001b[38;5;34m128\u001b[0m, \u001b[38;5;34m128\u001b[0m)       │         \u001b[38;5;34m16,512\u001b[0m │ dense_1[\u001b[38;5;34m0\u001b[0m][\u001b[38;5;34m0\u001b[0m]          │\n",
       "├───────────────────────────┼────────────────────────┼────────────────┼────────────────────────┤\n",
       "│ dropout_3 (\u001b[38;5;33mDropout\u001b[0m)       │ (\u001b[38;5;45mNone\u001b[0m, \u001b[38;5;34m128\u001b[0m, \u001b[38;5;34m128\u001b[0m)       │              \u001b[38;5;34m0\u001b[0m │ dense_2[\u001b[38;5;34m0\u001b[0m][\u001b[38;5;34m0\u001b[0m]          │\n",
       "├───────────────────────────┼────────────────────────┼────────────────┼────────────────────────┤\n",
       "│ add_1 (\u001b[38;5;33mAdd\u001b[0m)               │ (\u001b[38;5;45mNone\u001b[0m, \u001b[38;5;34m128\u001b[0m, \u001b[38;5;34m128\u001b[0m)       │              \u001b[38;5;34m0\u001b[0m │ dropout_3[\u001b[38;5;34m0\u001b[0m][\u001b[38;5;34m0\u001b[0m],       │\n",
       "│                           │                        │                │ dense_1[\u001b[38;5;34m0\u001b[0m][\u001b[38;5;34m0\u001b[0m]          │\n",
       "├───────────────────────────┼────────────────────────┼────────────────┼────────────────────────┤\n",
       "│ layer_normalization_2     │ (\u001b[38;5;45mNone\u001b[0m, \u001b[38;5;34m128\u001b[0m, \u001b[38;5;34m128\u001b[0m)       │            \u001b[38;5;34m256\u001b[0m │ add_1[\u001b[38;5;34m0\u001b[0m][\u001b[38;5;34m0\u001b[0m]            │\n",
       "│ (\u001b[38;5;33mLayerNormalization\u001b[0m)      │                        │                │                        │\n",
       "├───────────────────────────┼────────────────────────┼────────────────┼────────────────────────┤\n",
       "│ global_average_pooling1d  │ (\u001b[38;5;45mNone\u001b[0m, \u001b[38;5;34m128\u001b[0m)            │              \u001b[38;5;34m0\u001b[0m │ layer_normalization_2… │\n",
       "│ (\u001b[38;5;33mGlobalAveragePooling1D\u001b[0m)  │                        │                │                        │\n",
       "├───────────────────────────┼────────────────────────┼────────────────┼────────────────────────┤\n",
       "│ dense_3 (\u001b[38;5;33mDense\u001b[0m)           │ (\u001b[38;5;45mNone\u001b[0m, \u001b[38;5;34m64\u001b[0m)             │          \u001b[38;5;34m8,256\u001b[0m │ global_average_poolin… │\n",
       "├───────────────────────────┼────────────────────────┼────────────────┼────────────────────────┤\n",
       "│ dropout_4 (\u001b[38;5;33mDropout\u001b[0m)       │ (\u001b[38;5;45mNone\u001b[0m, \u001b[38;5;34m64\u001b[0m)             │              \u001b[38;5;34m0\u001b[0m │ dense_3[\u001b[38;5;34m0\u001b[0m][\u001b[38;5;34m0\u001b[0m]          │\n",
       "├───────────────────────────┼────────────────────────┼────────────────┼────────────────────────┤\n",
       "│ dense_4 (\u001b[38;5;33mDense\u001b[0m)           │ (\u001b[38;5;45mNone\u001b[0m, \u001b[38;5;34m32\u001b[0m)             │          \u001b[38;5;34m2,080\u001b[0m │ dropout_4[\u001b[38;5;34m0\u001b[0m][\u001b[38;5;34m0\u001b[0m]        │\n",
       "├───────────────────────────┼────────────────────────┼────────────────┼────────────────────────┤\n",
       "│ dropout_5 (\u001b[38;5;33mDropout\u001b[0m)       │ (\u001b[38;5;45mNone\u001b[0m, \u001b[38;5;34m32\u001b[0m)             │              \u001b[38;5;34m0\u001b[0m │ dense_4[\u001b[38;5;34m0\u001b[0m][\u001b[38;5;34m0\u001b[0m]          │\n",
       "├───────────────────────────┼────────────────────────┼────────────────┼────────────────────────┤\n",
       "│ dense_5 (\u001b[38;5;33mDense\u001b[0m)           │ (\u001b[38;5;45mNone\u001b[0m, \u001b[38;5;34m5\u001b[0m)              │            \u001b[38;5;34m165\u001b[0m │ dropout_5[\u001b[38;5;34m0\u001b[0m][\u001b[38;5;34m0\u001b[0m]        │\n",
       "└───────────────────────────┴────────────────────────┴────────────────┴────────────────────────┘\n"
      ]
     },
     "metadata": {},
     "output_type": "display_data"
    },
    {
     "data": {
      "text/html": [
       "<pre style=\"white-space:pre;overflow-x:auto;line-height:normal;font-family:Menlo,'DejaVu Sans Mono',consolas,'Courier New',monospace\"><span style=\"font-weight: bold\"> Total params: </span><span style=\"color: #00af00; text-decoration-color: #00af00\">1,836,805</span> (7.01 MB)\n",
       "</pre>\n"
      ],
      "text/plain": [
       "\u001b[1m Total params: \u001b[0m\u001b[38;5;34m1,836,805\u001b[0m (7.01 MB)\n"
      ]
     },
     "metadata": {},
     "output_type": "display_data"
    },
    {
     "data": {
      "text/html": [
       "<pre style=\"white-space:pre;overflow-x:auto;line-height:normal;font-family:Menlo,'DejaVu Sans Mono',consolas,'Courier New',monospace\"><span style=\"font-weight: bold\"> Trainable params: </span><span style=\"color: #00af00; text-decoration-color: #00af00\">1,836,805</span> (7.01 MB)\n",
       "</pre>\n"
      ],
      "text/plain": [
       "\u001b[1m Trainable params: \u001b[0m\u001b[38;5;34m1,836,805\u001b[0m (7.01 MB)\n"
      ]
     },
     "metadata": {},
     "output_type": "display_data"
    },
    {
     "data": {
      "text/html": [
       "<pre style=\"white-space:pre;overflow-x:auto;line-height:normal;font-family:Menlo,'DejaVu Sans Mono',consolas,'Courier New',monospace\"><span style=\"font-weight: bold\"> Non-trainable params: </span><span style=\"color: #00af00; text-decoration-color: #00af00\">0</span> (0.00 B)\n",
       "</pre>\n"
      ],
      "text/plain": [
       "\u001b[1m Non-trainable params: \u001b[0m\u001b[38;5;34m0\u001b[0m (0.00 B)\n"
      ]
     },
     "metadata": {},
     "output_type": "display_data"
    }
   ],
   "source": [
    "import tensorflow as tf\n",
    "from tensorflow.keras.regularizers import L2\n",
    "strategy = tf.distribute.MirroredStrategy()\n",
    "print('Number of devices: {}'.format(strategy.num_replicas_in_sync))\n",
    "from keras.optimizers import Adam\n",
    "with strategy.scope():\n",
    "    from tensorflow.keras.models import Model\n",
    "    from tensorflow.keras.layers import Dense, MultiHeadAttention, LayerNormalization,GlobalAveragePooling1D, Dropout, Embedding, Flatten,Input, Add\n",
    "    from tensorflow.keras.callbacks import EarlyStopping, ModelCheckpoint\n",
    "    \n",
    "    initializer='he_normal'\n",
    "    \n",
    "    def transformer_block(x):\n",
    "        attention_output=MultiHeadAttention(num_heads=2,key_dim=hidden_size,kernel_initializer=initializer, kernel_regularizer=L2(1e-3))(x,x,x)\n",
    "        attention_output=Dropout(0.1)(attention_output)\n",
    "        x = Add()([x, attention_output])  \n",
    "        x = LayerNormalization(epsilon=1e-6)(x)\n",
    "        feed_forward_output=Dense(128,activation='gelu',kernel_initializer=initializer,kernel_regularizer=L2(1e-3))(x)\n",
    "        x = Dropout(0.1)(x)\n",
    "        x=Dense(128,activation='gelu',kernel_initializer=initializer,kernel_regularizer=L2(1e-3))(feed_forward_output)\n",
    "        x = Dropout(0.1)(x)\n",
    "        x = Add()([x, feed_forward_output])  \n",
    "        output = LayerNormalization(epsilon=1e-6)(x)\n",
    "        return output\n",
    "    \n",
    "    input = Input(shape=(seq_len,hidden_size), name='input', dtype='float32')\n",
    "    x = LayerNormalization(epsilon=1e-6)(input)\n",
    "    x = Dense(256, activation='linear',kernel_initializer=initializer,kernel_regularizer=L2(1e-3))(x) # reduce embedding dimension to 256\n",
    "    x=transformer_block(x)\n",
    "    #x=transformer_block(x)\n",
    "    x = tf.keras.layers.GlobalAveragePooling1D()(x)\n",
    "    x=Dense(64,activation='gelu',kernel_initializer=initializer,kernel_regularizer=L2(1e-3))(x)\n",
    "    x = Dropout(0.1)(x)\n",
    "    x=Dense(32,activation='gelu',kernel_initializer=initializer,kernel_regularizer=L2(1e-3))(x)\n",
    "    x = Dropout(0.1)(x)\n",
    "    output_layer=Dense(5,activation='softmax',kernel_initializer='glorot_uniform',kernel_regularizer=L2(1e-3))(x)\n",
    "    model=Model(inputs=input,outputs=output_layer)\n",
    "    model.summary()\n",
    "    adam = Adam(learning_rate=0.00001,\n",
    "        clipnorm=1.0,)\n",
    "    model.compile(optimizer=adam, loss='sparse_categorical_crossentropy', metrics=['accuracy'])\n"
   ]
  },
  {
   "cell_type": "code",
   "execution_count": 28,
   "metadata": {
    "execution": {
     "iopub.execute_input": "2024-12-23T19:16:37.838177Z",
     "iopub.status.busy": "2024-12-23T19:16:37.837851Z",
     "iopub.status.idle": "2024-12-23T20:07:16.191015Z",
     "shell.execute_reply": "2024-12-23T20:07:16.190116Z",
     "shell.execute_reply.started": "2024-12-23T19:16:37.838144Z"
    },
    "id": "iWe7h8dPtGnz",
    "trusted": true
   },
   "outputs": [
    {
     "name": "stdout",
     "output_type": "stream",
     "text": [
      "Epoch 1/50\n",
      "\u001b[1m2800/2801\u001b[0m \u001b[32m━━━━━━━━━━━━━━━━━━━\u001b[0m\u001b[37m━\u001b[0m \u001b[1m0s\u001b[0m 20ms/step - accuracy: 0.4332 - loss: 7.6815\n",
      "Epoch 1: val_loss improved from inf to 7.05251, saving model to model.keras\n",
      "\u001b[1m2801/2801\u001b[0m \u001b[32m━━━━━━━━━━━━━━━━━━━━\u001b[0m\u001b[37m\u001b[0m \u001b[1m79s\u001b[0m 22ms/step - accuracy: 0.4333 - loss: 7.6813 - val_accuracy: 0.6698 - val_loss: 7.0525\n",
      "Epoch 2/50\n",
      "\u001b[1m2801/2801\u001b[0m \u001b[32m━━━━━━━━━━━━━━━━━━━━\u001b[0m\u001b[37m\u001b[0m \u001b[1m0s\u001b[0m 21ms/step - accuracy: 0.6537 - loss: 7.0918\n",
      "Epoch 2: val_loss improved from 7.05251 to 6.80469, saving model to model.keras\n",
      "\u001b[1m2801/2801\u001b[0m \u001b[32m━━━━━━━━━━━━━━━━━━━━\u001b[0m\u001b[37m\u001b[0m \u001b[1m60s\u001b[0m 21ms/step - accuracy: 0.6537 - loss: 7.0917 - val_accuracy: 0.6977 - val_loss: 6.8047\n",
      "Epoch 3/50\n",
      "\u001b[1m2801/2801\u001b[0m \u001b[32m━━━━━━━━━━━━━━━━━━━━\u001b[0m\u001b[37m\u001b[0m \u001b[1m0s\u001b[0m 21ms/step - accuracy: 0.7014 - loss: 6.7792\n",
      "Epoch 3: val_loss improved from 6.80469 to 6.49229, saving model to model.keras\n",
      "\u001b[1m2801/2801\u001b[0m \u001b[32m━━━━━━━━━━━━━━━━━━━━\u001b[0m\u001b[37m\u001b[0m \u001b[1m60s\u001b[0m 21ms/step - accuracy: 0.7014 - loss: 6.7791 - val_accuracy: 0.7256 - val_loss: 6.4923\n",
      "Epoch 4/50\n",
      "\u001b[1m2800/2801\u001b[0m \u001b[32m━━━━━━━━━━━━━━━━━━━\u001b[0m\u001b[37m━\u001b[0m \u001b[1m0s\u001b[0m 21ms/step - accuracy: 0.7053 - loss: 6.5140\n",
      "Epoch 4: val_loss improved from 6.49229 to 6.24263, saving model to model.keras\n",
      "\u001b[1m2801/2801\u001b[0m \u001b[32m━━━━━━━━━━━━━━━━━━━━\u001b[0m\u001b[37m\u001b[0m \u001b[1m60s\u001b[0m 21ms/step - accuracy: 0.7053 - loss: 6.5139 - val_accuracy: 0.7287 - val_loss: 6.2426\n",
      "Epoch 5/50\n",
      "\u001b[1m2800/2801\u001b[0m \u001b[32m━━━━━━━━━━━━━━━━━━━\u001b[0m\u001b[37m━\u001b[0m \u001b[1m0s\u001b[0m 21ms/step - accuracy: 0.7063 - loss: 6.2580\n",
      "Epoch 5: val_loss improved from 6.24263 to 5.98626, saving model to model.keras\n",
      "\u001b[1m2801/2801\u001b[0m \u001b[32m━━━━━━━━━━━━━━━━━━━━\u001b[0m\u001b[37m\u001b[0m \u001b[1m60s\u001b[0m 21ms/step - accuracy: 0.7063 - loss: 6.2579 - val_accuracy: 0.7256 - val_loss: 5.9863\n",
      "Epoch 6/50\n",
      "\u001b[1m2800/2801\u001b[0m \u001b[32m━━━━━━━━━━━━━━━━━━━\u001b[0m\u001b[37m━\u001b[0m \u001b[1m0s\u001b[0m 21ms/step - accuracy: 0.7171 - loss: 5.9828\n",
      "Epoch 6: val_loss improved from 5.98626 to 5.76212, saving model to model.keras\n",
      "\u001b[1m2801/2801\u001b[0m \u001b[32m━━━━━━━━━━━━━━━━━━━━\u001b[0m\u001b[37m\u001b[0m \u001b[1m60s\u001b[0m 21ms/step - accuracy: 0.7171 - loss: 5.9828 - val_accuracy: 0.7349 - val_loss: 5.7621\n",
      "Epoch 7/50\n",
      "\u001b[1m2801/2801\u001b[0m \u001b[32m━━━━━━━━━━━━━━━━━━━━\u001b[0m\u001b[37m\u001b[0m \u001b[1m0s\u001b[0m 22ms/step - accuracy: 0.7229 - loss: 5.7229\n",
      "Epoch 7: val_loss improved from 5.76212 to 5.53476, saving model to model.keras\n",
      "\u001b[1m2801/2801\u001b[0m \u001b[32m━━━━━━━━━━━━━━━━━━━━\u001b[0m\u001b[37m\u001b[0m \u001b[1m64s\u001b[0m 23ms/step - accuracy: 0.7229 - loss: 5.7228 - val_accuracy: 0.7380 - val_loss: 5.5348\n",
      "Epoch 8/50\n",
      "\u001b[1m2800/2801\u001b[0m \u001b[32m━━━━━━━━━━━━━━━━━━━\u001b[0m\u001b[37m━\u001b[0m \u001b[1m0s\u001b[0m 21ms/step - accuracy: 0.7249 - loss: 5.4810\n",
      "Epoch 8: val_loss improved from 5.53476 to 5.32207, saving model to model.keras\n",
      "\u001b[1m2801/2801\u001b[0m \u001b[32m━━━━━━━━━━━━━━━━━━━━\u001b[0m\u001b[37m\u001b[0m \u001b[1m60s\u001b[0m 21ms/step - accuracy: 0.7249 - loss: 5.4809 - val_accuracy: 0.7287 - val_loss: 5.3221\n",
      "Epoch 9/50\n",
      "\u001b[1m2801/2801\u001b[0m \u001b[32m━━━━━━━━━━━━━━━━━━━━\u001b[0m\u001b[37m\u001b[0m \u001b[1m0s\u001b[0m 21ms/step - accuracy: 0.7324 - loss: 5.2402\n",
      "Epoch 9: val_loss improved from 5.32207 to 5.08171, saving model to model.keras\n",
      "\u001b[1m2801/2801\u001b[0m \u001b[32m━━━━━━━━━━━━━━━━━━━━\u001b[0m\u001b[37m\u001b[0m \u001b[1m60s\u001b[0m 21ms/step - accuracy: 0.7324 - loss: 5.2401 - val_accuracy: 0.7287 - val_loss: 5.0817\n",
      "Epoch 10/50\n",
      "\u001b[1m2800/2801\u001b[0m \u001b[32m━━━━━━━━━━━━━━━━━━━\u001b[0m\u001b[37m━\u001b[0m \u001b[1m0s\u001b[0m 21ms/step - accuracy: 0.7354 - loss: 5.0068\n",
      "Epoch 10: val_loss improved from 5.08171 to 4.86409, saving model to model.keras\n",
      "\u001b[1m2801/2801\u001b[0m \u001b[32m━━━━━━━━━━━━━━━━━━━━\u001b[0m\u001b[37m\u001b[0m \u001b[1m60s\u001b[0m 21ms/step - accuracy: 0.7354 - loss: 5.0067 - val_accuracy: 0.7287 - val_loss: 4.8641\n",
      "Epoch 11/50\n",
      "\u001b[1m2799/2801\u001b[0m \u001b[32m━━━━━━━━━━━━━━━━━━━\u001b[0m\u001b[37m━\u001b[0m \u001b[1m0s\u001b[0m 21ms/step - accuracy: 0.7518 - loss: 4.7938\n",
      "Epoch 11: val_loss improved from 4.86409 to 4.67862, saving model to model.keras\n",
      "\u001b[1m2801/2801\u001b[0m \u001b[32m━━━━━━━━━━━━━━━━━━━━\u001b[0m\u001b[37m\u001b[0m \u001b[1m60s\u001b[0m 22ms/step - accuracy: 0.7518 - loss: 4.7938 - val_accuracy: 0.7395 - val_loss: 4.6786\n",
      "Epoch 12/50\n",
      "\u001b[1m2800/2801\u001b[0m \u001b[32m━━━━━━━━━━━━━━━━━━━\u001b[0m\u001b[37m━\u001b[0m \u001b[1m0s\u001b[0m 21ms/step - accuracy: 0.7408 - loss: 4.6207\n",
      "Epoch 12: val_loss improved from 4.67862 to 4.51325, saving model to model.keras\n",
      "\u001b[1m2801/2801\u001b[0m \u001b[32m━━━━━━━━━━━━━━━━━━━━\u001b[0m\u001b[37m\u001b[0m \u001b[1m60s\u001b[0m 22ms/step - accuracy: 0.7408 - loss: 4.6207 - val_accuracy: 0.7318 - val_loss: 4.5132\n",
      "Epoch 13/50\n",
      "\u001b[1m2800/2801\u001b[0m \u001b[32m━━━━━━━━━━━━━━━━━━━\u001b[0m\u001b[37m━\u001b[0m \u001b[1m0s\u001b[0m 21ms/step - accuracy: 0.7418 - loss: 4.4153\n",
      "Epoch 13: val_loss improved from 4.51325 to 4.34230, saving model to model.keras\n",
      "\u001b[1m2801/2801\u001b[0m \u001b[32m━━━━━━━━━━━━━━━━━━━━\u001b[0m\u001b[37m\u001b[0m \u001b[1m61s\u001b[0m 22ms/step - accuracy: 0.7418 - loss: 4.4153 - val_accuracy: 0.7333 - val_loss: 4.3423\n",
      "Epoch 14/50\n",
      "\u001b[1m2801/2801\u001b[0m \u001b[32m━━━━━━━━━━━━━━━━━━━━\u001b[0m\u001b[37m\u001b[0m \u001b[1m0s\u001b[0m 21ms/step - accuracy: 0.7516 - loss: 4.2467\n",
      "Epoch 14: val_loss improved from 4.34230 to 4.17898, saving model to model.keras\n",
      "\u001b[1m2801/2801\u001b[0m \u001b[32m━━━━━━━━━━━━━━━━━━━━\u001b[0m\u001b[37m\u001b[0m \u001b[1m60s\u001b[0m 21ms/step - accuracy: 0.7516 - loss: 4.2466 - val_accuracy: 0.7395 - val_loss: 4.1790\n",
      "Epoch 15/50\n",
      "\u001b[1m2799/2801\u001b[0m \u001b[32m━━━━━━━━━━━━━━━━━━━\u001b[0m\u001b[37m━\u001b[0m \u001b[1m0s\u001b[0m 21ms/step - accuracy: 0.7409 - loss: 4.1012\n",
      "Epoch 15: val_loss improved from 4.17898 to 4.00511, saving model to model.keras\n",
      "\u001b[1m2801/2801\u001b[0m \u001b[32m━━━━━━━━━━━━━━━━━━━━\u001b[0m\u001b[37m\u001b[0m \u001b[1m60s\u001b[0m 21ms/step - accuracy: 0.7409 - loss: 4.1011 - val_accuracy: 0.7364 - val_loss: 4.0051\n",
      "Epoch 16/50\n",
      "\u001b[1m2800/2801\u001b[0m \u001b[32m━━━━━━━━━━━━━━━━━━━\u001b[0m\u001b[37m━\u001b[0m \u001b[1m0s\u001b[0m 21ms/step - accuracy: 0.7567 - loss: 3.9090\n",
      "Epoch 16: val_loss improved from 4.00511 to 3.81923, saving model to model.keras\n",
      "\u001b[1m2801/2801\u001b[0m \u001b[32m━━━━━━━━━━━━━━━━━━━━\u001b[0m\u001b[37m\u001b[0m \u001b[1m60s\u001b[0m 21ms/step - accuracy: 0.7567 - loss: 3.9090 - val_accuracy: 0.7442 - val_loss: 3.8192\n",
      "Epoch 17/50\n",
      "\u001b[1m2799/2801\u001b[0m \u001b[32m━━━━━━━━━━━━━━━━━━━\u001b[0m\u001b[37m━\u001b[0m \u001b[1m0s\u001b[0m 21ms/step - accuracy: 0.7561 - loss: 3.7648\n",
      "Epoch 17: val_loss improved from 3.81923 to 3.73501, saving model to model.keras\n",
      "\u001b[1m2801/2801\u001b[0m \u001b[32m━━━━━━━━━━━━━━━━━━━━\u001b[0m\u001b[37m\u001b[0m \u001b[1m60s\u001b[0m 21ms/step - accuracy: 0.7561 - loss: 3.7648 - val_accuracy: 0.7488 - val_loss: 3.7350\n",
      "Epoch 18/50\n",
      "\u001b[1m2799/2801\u001b[0m \u001b[32m━━━━━━━━━━━━━━━━━━━\u001b[0m\u001b[37m━\u001b[0m \u001b[1m0s\u001b[0m 21ms/step - accuracy: 0.7536 - loss: 3.6429\n",
      "Epoch 18: val_loss improved from 3.73501 to 3.61633, saving model to model.keras\n",
      "\u001b[1m2801/2801\u001b[0m \u001b[32m━━━━━━━━━━━━━━━━━━━━\u001b[0m\u001b[37m\u001b[0m \u001b[1m61s\u001b[0m 22ms/step - accuracy: 0.7536 - loss: 3.6428 - val_accuracy: 0.7333 - val_loss: 3.6163\n",
      "Epoch 19/50\n",
      "\u001b[1m2801/2801\u001b[0m \u001b[32m━━━━━━━━━━━━━━━━━━━━\u001b[0m\u001b[37m\u001b[0m \u001b[1m0s\u001b[0m 21ms/step - accuracy: 0.7590 - loss: 3.4895\n",
      "Epoch 19: val_loss improved from 3.61633 to 3.48290, saving model to model.keras\n",
      "\u001b[1m2801/2801\u001b[0m \u001b[32m━━━━━━━━━━━━━━━━━━━━\u001b[0m\u001b[37m\u001b[0m \u001b[1m61s\u001b[0m 22ms/step - accuracy: 0.7590 - loss: 3.4895 - val_accuracy: 0.7395 - val_loss: 3.4829\n",
      "Epoch 20/50\n",
      "\u001b[1m2801/2801\u001b[0m \u001b[32m━━━━━━━━━━━━━━━━━━━━\u001b[0m\u001b[37m\u001b[0m \u001b[1m0s\u001b[0m 21ms/step - accuracy: 0.7664 - loss: 3.3388\n",
      "Epoch 20: val_loss improved from 3.48290 to 3.34223, saving model to model.keras\n",
      "\u001b[1m2801/2801\u001b[0m \u001b[32m━━━━━━━━━━━━━━━━━━━━\u001b[0m\u001b[37m\u001b[0m \u001b[1m61s\u001b[0m 22ms/step - accuracy: 0.7664 - loss: 3.3388 - val_accuracy: 0.7302 - val_loss: 3.3422\n",
      "Epoch 21/50\n",
      "\u001b[1m2799/2801\u001b[0m \u001b[32m━━━━━━━━━━━━━━━━━━━\u001b[0m\u001b[37m━\u001b[0m \u001b[1m0s\u001b[0m 21ms/step - accuracy: 0.7631 - loss: 3.2204\n",
      "Epoch 21: val_loss improved from 3.34223 to 3.23745, saving model to model.keras\n",
      "\u001b[1m2801/2801\u001b[0m \u001b[32m━━━━━━━━━━━━━━━━━━━━\u001b[0m\u001b[37m\u001b[0m \u001b[1m60s\u001b[0m 21ms/step - accuracy: 0.7631 - loss: 3.2204 - val_accuracy: 0.7457 - val_loss: 3.2374\n",
      "Epoch 22/50\n",
      "\u001b[1m2801/2801\u001b[0m \u001b[32m━━━━━━━━━━━━━━━━━━━━\u001b[0m\u001b[37m\u001b[0m \u001b[1m0s\u001b[0m 21ms/step - accuracy: 0.7602 - loss: 3.1334\n",
      "Epoch 22: val_loss improved from 3.23745 to 3.17827, saving model to model.keras\n",
      "\u001b[1m2801/2801\u001b[0m \u001b[32m━━━━━━━━━━━━━━━━━━━━\u001b[0m\u001b[37m\u001b[0m \u001b[1m61s\u001b[0m 22ms/step - accuracy: 0.7602 - loss: 3.1334 - val_accuracy: 0.7395 - val_loss: 3.1783\n",
      "Epoch 23/50\n",
      "\u001b[1m2801/2801\u001b[0m \u001b[32m━━━━━━━━━━━━━━━━━━━━\u001b[0m\u001b[37m\u001b[0m \u001b[1m0s\u001b[0m 21ms/step - accuracy: 0.7542 - loss: 3.0443\n",
      "Epoch 23: val_loss improved from 3.17827 to 3.10376, saving model to model.keras\n",
      "\u001b[1m2801/2801\u001b[0m \u001b[32m━━━━━━━━━━━━━━━━━━━━\u001b[0m\u001b[37m\u001b[0m \u001b[1m61s\u001b[0m 22ms/step - accuracy: 0.7542 - loss: 3.0443 - val_accuracy: 0.7457 - val_loss: 3.1038\n",
      "Epoch 24/50\n",
      "\u001b[1m2801/2801\u001b[0m \u001b[32m━━━━━━━━━━━━━━━━━━━━\u001b[0m\u001b[37m\u001b[0m \u001b[1m0s\u001b[0m 21ms/step - accuracy: 0.7549 - loss: 2.9376\n",
      "Epoch 24: val_loss improved from 3.10376 to 2.97850, saving model to model.keras\n",
      "\u001b[1m2801/2801\u001b[0m \u001b[32m━━━━━━━━━━━━━━━━━━━━\u001b[0m\u001b[37m\u001b[0m \u001b[1m60s\u001b[0m 22ms/step - accuracy: 0.7549 - loss: 2.9376 - val_accuracy: 0.7395 - val_loss: 2.9785\n",
      "Epoch 25/50\n",
      "\u001b[1m2799/2801\u001b[0m \u001b[32m━━━━━━━━━━━━━━━━━━━\u001b[0m\u001b[37m━\u001b[0m \u001b[1m0s\u001b[0m 21ms/step - accuracy: 0.7693 - loss: 2.8085\n",
      "Epoch 25: val_loss improved from 2.97850 to 2.87324, saving model to model.keras\n",
      "\u001b[1m2801/2801\u001b[0m \u001b[32m━━━━━━━━━━━━━━━━━━━━\u001b[0m\u001b[37m\u001b[0m \u001b[1m60s\u001b[0m 21ms/step - accuracy: 0.7692 - loss: 2.8085 - val_accuracy: 0.7318 - val_loss: 2.8732\n",
      "Epoch 26/50\n",
      "\u001b[1m2799/2801\u001b[0m \u001b[32m━━━━━━━━━━━━━━━━━━━\u001b[0m\u001b[37m━\u001b[0m \u001b[1m0s\u001b[0m 20ms/step - accuracy: 0.7685 - loss: 2.7260\n",
      "Epoch 26: val_loss improved from 2.87324 to 2.79990, saving model to model.keras\n",
      "\u001b[1m2801/2801\u001b[0m \u001b[32m━━━━━━━━━━━━━━━━━━━━\u001b[0m\u001b[37m\u001b[0m \u001b[1m60s\u001b[0m 21ms/step - accuracy: 0.7685 - loss: 2.7260 - val_accuracy: 0.7302 - val_loss: 2.7999\n",
      "Epoch 27/50\n",
      "\u001b[1m2799/2801\u001b[0m \u001b[32m━━━━━━━━━━━━━━━━━━━\u001b[0m\u001b[37m━\u001b[0m \u001b[1m0s\u001b[0m 20ms/step - accuracy: 0.7655 - loss: 2.6489\n",
      "Epoch 27: val_loss improved from 2.79990 to 2.75622, saving model to model.keras\n",
      "\u001b[1m2801/2801\u001b[0m \u001b[32m━━━━━━━━━━━━━━━━━━━━\u001b[0m\u001b[37m\u001b[0m \u001b[1m59s\u001b[0m 21ms/step - accuracy: 0.7655 - loss: 2.6489 - val_accuracy: 0.7411 - val_loss: 2.7562\n",
      "Epoch 28/50\n",
      "\u001b[1m2799/2801\u001b[0m \u001b[32m━━━━━━━━━━━━━━━━━━━\u001b[0m\u001b[37m━\u001b[0m \u001b[1m0s\u001b[0m 20ms/step - accuracy: 0.7659 - loss: 2.5526\n",
      "Epoch 28: val_loss improved from 2.75622 to 2.69495, saving model to model.keras\n",
      "\u001b[1m2801/2801\u001b[0m \u001b[32m━━━━━━━━━━━━━━━━━━━━\u001b[0m\u001b[37m\u001b[0m \u001b[1m59s\u001b[0m 21ms/step - accuracy: 0.7659 - loss: 2.5526 - val_accuracy: 0.7287 - val_loss: 2.6950\n",
      "Epoch 29/50\n",
      "\u001b[1m2800/2801\u001b[0m \u001b[32m━━━━━━━━━━━━━━━━━━━\u001b[0m\u001b[37m━\u001b[0m \u001b[1m0s\u001b[0m 20ms/step - accuracy: 0.7669 - loss: 2.4779\n",
      "Epoch 29: val_loss improved from 2.69495 to 2.59044, saving model to model.keras\n",
      "\u001b[1m2801/2801\u001b[0m \u001b[32m━━━━━━━━━━━━━━━━━━━━\u001b[0m\u001b[37m\u001b[0m \u001b[1m59s\u001b[0m 21ms/step - accuracy: 0.7669 - loss: 2.4779 - val_accuracy: 0.7426 - val_loss: 2.5904\n",
      "Epoch 30/50\n",
      "\u001b[1m2799/2801\u001b[0m \u001b[32m━━━━━━━━━━━━━━━━━━━\u001b[0m\u001b[37m━\u001b[0m \u001b[1m0s\u001b[0m 20ms/step - accuracy: 0.7621 - loss: 2.4143\n",
      "Epoch 30: val_loss improved from 2.59044 to 2.56681, saving model to model.keras\n",
      "\u001b[1m2801/2801\u001b[0m \u001b[32m━━━━━━━━━━━━━━━━━━━━\u001b[0m\u001b[37m\u001b[0m \u001b[1m59s\u001b[0m 21ms/step - accuracy: 0.7621 - loss: 2.4142 - val_accuracy: 0.7318 - val_loss: 2.5668\n",
      "Epoch 31/50\n",
      "\u001b[1m2800/2801\u001b[0m \u001b[32m━━━━━━━━━━━━━━━━━━━\u001b[0m\u001b[37m━\u001b[0m \u001b[1m0s\u001b[0m 20ms/step - accuracy: 0.7744 - loss: 2.3302\n",
      "Epoch 31: val_loss improved from 2.56681 to 2.47096, saving model to model.keras\n",
      "\u001b[1m2801/2801\u001b[0m \u001b[32m━━━━━━━━━━━━━━━━━━━━\u001b[0m\u001b[37m\u001b[0m \u001b[1m59s\u001b[0m 21ms/step - accuracy: 0.7744 - loss: 2.3302 - val_accuracy: 0.7271 - val_loss: 2.4710\n",
      "Epoch 32/50\n",
      "\u001b[1m2799/2801\u001b[0m \u001b[32m━━━━━━━━━━━━━━━━━━━\u001b[0m\u001b[37m━\u001b[0m \u001b[1m0s\u001b[0m 20ms/step - accuracy: 0.7665 - loss: 2.2645\n",
      "Epoch 32: val_loss improved from 2.47096 to 2.40336, saving model to model.keras\n",
      "\u001b[1m2801/2801\u001b[0m \u001b[32m━━━━━━━━━━━━━━━━━━━━\u001b[0m\u001b[37m\u001b[0m \u001b[1m59s\u001b[0m 21ms/step - accuracy: 0.7665 - loss: 2.2645 - val_accuracy: 0.7349 - val_loss: 2.4034\n",
      "Epoch 33/50\n",
      "\u001b[1m2799/2801\u001b[0m \u001b[32m━━━━━━━━━━━━━━━━━━━\u001b[0m\u001b[37m━\u001b[0m \u001b[1m0s\u001b[0m 20ms/step - accuracy: 0.7663 - loss: 2.2028\n",
      "Epoch 33: val_loss improved from 2.40336 to 2.35862, saving model to model.keras\n",
      "\u001b[1m2801/2801\u001b[0m \u001b[32m━━━━━━━━━━━━━━━━━━━━\u001b[0m\u001b[37m\u001b[0m \u001b[1m59s\u001b[0m 21ms/step - accuracy: 0.7663 - loss: 2.2027 - val_accuracy: 0.7426 - val_loss: 2.3586\n",
      "Epoch 34/50\n",
      "\u001b[1m2800/2801\u001b[0m \u001b[32m━━━━━━━━━━━━━━━━━━━\u001b[0m\u001b[37m━\u001b[0m \u001b[1m0s\u001b[0m 20ms/step - accuracy: 0.7758 - loss: 2.1200\n",
      "Epoch 34: val_loss improved from 2.35862 to 2.28385, saving model to model.keras\n",
      "\u001b[1m2801/2801\u001b[0m \u001b[32m━━━━━━━━━━━━━━━━━━━━\u001b[0m\u001b[37m\u001b[0m \u001b[1m59s\u001b[0m 21ms/step - accuracy: 0.7758 - loss: 2.1201 - val_accuracy: 0.7380 - val_loss: 2.2839\n",
      "Epoch 35/50\n",
      "\u001b[1m2801/2801\u001b[0m \u001b[32m━━━━━━━━━━━━━━━━━━━━\u001b[0m\u001b[37m\u001b[0m \u001b[1m0s\u001b[0m 20ms/step - accuracy: 0.7758 - loss: 2.0573\n",
      "Epoch 35: val_loss improved from 2.28385 to 2.21328, saving model to model.keras\n",
      "\u001b[1m2801/2801\u001b[0m \u001b[32m━━━━━━━━━━━━━━━━━━━━\u001b[0m\u001b[37m\u001b[0m \u001b[1m59s\u001b[0m 21ms/step - accuracy: 0.7758 - loss: 2.0573 - val_accuracy: 0.7349 - val_loss: 2.2133\n",
      "Epoch 36/50\n",
      "\u001b[1m2800/2801\u001b[0m \u001b[32m━━━━━━━━━━━━━━━━━━━\u001b[0m\u001b[37m━\u001b[0m \u001b[1m0s\u001b[0m 20ms/step - accuracy: 0.7791 - loss: 2.0094\n",
      "Epoch 36: val_loss improved from 2.21328 to 2.13005, saving model to model.keras\n",
      "\u001b[1m2801/2801\u001b[0m \u001b[32m━━━━━━━━━━━━━━━━━━━━\u001b[0m\u001b[37m\u001b[0m \u001b[1m59s\u001b[0m 21ms/step - accuracy: 0.7791 - loss: 2.0094 - val_accuracy: 0.7442 - val_loss: 2.1301\n",
      "Epoch 37/50\n",
      "\u001b[1m2800/2801\u001b[0m \u001b[32m━━━━━━━━━━━━━━━━━━━\u001b[0m\u001b[37m━\u001b[0m \u001b[1m0s\u001b[0m 20ms/step - accuracy: 0.7658 - loss: 1.9949\n",
      "Epoch 37: val_loss did not improve from 2.13005\n",
      "\u001b[1m2801/2801\u001b[0m \u001b[32m━━━━━━━━━━━━━━━━━━━━\u001b[0m\u001b[37m\u001b[0m \u001b[1m59s\u001b[0m 21ms/step - accuracy: 0.7658 - loss: 1.9948 - val_accuracy: 0.7302 - val_loss: 2.1876\n",
      "Epoch 38/50\n",
      "\u001b[1m2800/2801\u001b[0m \u001b[32m━━━━━━━━━━━━━━━━━━━\u001b[0m\u001b[37m━\u001b[0m \u001b[1m0s\u001b[0m 20ms/step - accuracy: 0.7751 - loss: 1.9206\n",
      "Epoch 38: val_loss improved from 2.13005 to 2.07390, saving model to model.keras\n",
      "\u001b[1m2801/2801\u001b[0m \u001b[32m━━━━━━━━━━━━━━━━━━━━\u001b[0m\u001b[37m\u001b[0m \u001b[1m59s\u001b[0m 21ms/step - accuracy: 0.7751 - loss: 1.9206 - val_accuracy: 0.7349 - val_loss: 2.0739\n",
      "Epoch 39/50\n",
      "\u001b[1m2799/2801\u001b[0m \u001b[32m━━━━━━━━━━━━━━━━━━━\u001b[0m\u001b[37m━\u001b[0m \u001b[1m0s\u001b[0m 21ms/step - accuracy: 0.7741 - loss: 1.8837\n",
      "Epoch 39: val_loss improved from 2.07390 to 2.00884, saving model to model.keras\n",
      "\u001b[1m2801/2801\u001b[0m \u001b[32m━━━━━━━━━━━━━━━━━━━━\u001b[0m\u001b[37m\u001b[0m \u001b[1m61s\u001b[0m 22ms/step - accuracy: 0.7741 - loss: 1.8837 - val_accuracy: 0.7364 - val_loss: 2.0088\n",
      "Epoch 40/50\n",
      "\u001b[1m2801/2801\u001b[0m \u001b[32m━━━━━━━━━━━━━━━━━━━━\u001b[0m\u001b[37m\u001b[0m \u001b[1m0s\u001b[0m 21ms/step - accuracy: 0.7697 - loss: 1.8604\n",
      "Epoch 40: val_loss improved from 2.00884 to 2.00735, saving model to model.keras\n",
      "\u001b[1m2801/2801\u001b[0m \u001b[32m━━━━━━━━━━━━━━━━━━━━\u001b[0m\u001b[37m\u001b[0m \u001b[1m61s\u001b[0m 22ms/step - accuracy: 0.7697 - loss: 1.8604 - val_accuracy: 0.7380 - val_loss: 2.0073\n",
      "Epoch 41/50\n",
      "\u001b[1m2800/2801\u001b[0m \u001b[32m━━━━━━━━━━━━━━━━━━━\u001b[0m\u001b[37m━\u001b[0m \u001b[1m0s\u001b[0m 20ms/step - accuracy: 0.7782 - loss: 1.7954\n",
      "Epoch 41: val_loss improved from 2.00735 to 1.94738, saving model to model.keras\n",
      "\u001b[1m2801/2801\u001b[0m \u001b[32m━━━━━━━━━━━━━━━━━━━━\u001b[0m\u001b[37m\u001b[0m \u001b[1m59s\u001b[0m 21ms/step - accuracy: 0.7782 - loss: 1.7954 - val_accuracy: 0.7333 - val_loss: 1.9474\n",
      "Epoch 42/50\n",
      "\u001b[1m2800/2801\u001b[0m \u001b[32m━━━━━━━━━━━━━━━━━━━\u001b[0m\u001b[37m━\u001b[0m \u001b[1m0s\u001b[0m 20ms/step - accuracy: 0.7801 - loss: 1.7347\n",
      "Epoch 42: val_loss did not improve from 1.94738\n",
      "\u001b[1m2801/2801\u001b[0m \u001b[32m━━━━━━━━━━━━━━━━━━━━\u001b[0m\u001b[37m\u001b[0m \u001b[1m59s\u001b[0m 21ms/step - accuracy: 0.7801 - loss: 1.7347 - val_accuracy: 0.7287 - val_loss: 1.9518\n",
      "Epoch 43/50\n",
      "\u001b[1m2801/2801\u001b[0m \u001b[32m━━━━━━━━━━━━━━━━━━━━\u001b[0m\u001b[37m\u001b[0m \u001b[1m0s\u001b[0m 21ms/step - accuracy: 0.7781 - loss: 1.7084\n",
      "Epoch 43: val_loss improved from 1.94738 to 1.87989, saving model to model.keras\n",
      "\u001b[1m2801/2801\u001b[0m \u001b[32m━━━━━━━━━━━━━━━━━━━━\u001b[0m\u001b[37m\u001b[0m \u001b[1m61s\u001b[0m 22ms/step - accuracy: 0.7781 - loss: 1.7084 - val_accuracy: 0.7271 - val_loss: 1.8799\n",
      "Epoch 44/50\n",
      "\u001b[1m2801/2801\u001b[0m \u001b[32m━━━━━━━━━━━━━━━━━━━━\u001b[0m\u001b[37m\u001b[0m \u001b[1m0s\u001b[0m 20ms/step - accuracy: 0.7780 - loss: 1.6949\n",
      "Epoch 44: val_loss improved from 1.87989 to 1.86469, saving model to model.keras\n",
      "\u001b[1m2801/2801\u001b[0m \u001b[32m━━━━━━━━━━━━━━━━━━━━\u001b[0m\u001b[37m\u001b[0m \u001b[1m60s\u001b[0m 21ms/step - accuracy: 0.7780 - loss: 1.6949 - val_accuracy: 0.7380 - val_loss: 1.8647\n",
      "Epoch 45/50\n",
      "\u001b[1m2799/2801\u001b[0m \u001b[32m━━━━━━━━━━━━━━━━━━━\u001b[0m\u001b[37m━\u001b[0m \u001b[1m0s\u001b[0m 21ms/step - accuracy: 0.7740 - loss: 1.6646\n",
      "Epoch 45: val_loss improved from 1.86469 to 1.79745, saving model to model.keras\n",
      "\u001b[1m2801/2801\u001b[0m \u001b[32m━━━━━━━━━━━━━━━━━━━━\u001b[0m\u001b[37m\u001b[0m \u001b[1m60s\u001b[0m 21ms/step - accuracy: 0.7740 - loss: 1.6646 - val_accuracy: 0.7287 - val_loss: 1.7975\n",
      "Epoch 46/50\n",
      "\u001b[1m2799/2801\u001b[0m \u001b[32m━━━━━━━━━━━━━━━━━━━\u001b[0m\u001b[37m━\u001b[0m \u001b[1m0s\u001b[0m 21ms/step - accuracy: 0.7716 - loss: 1.6366\n",
      "Epoch 46: val_loss did not improve from 1.79745\n",
      "\u001b[1m2801/2801\u001b[0m \u001b[32m━━━━━━━━━━━━━━━━━━━━\u001b[0m\u001b[37m\u001b[0m \u001b[1m60s\u001b[0m 21ms/step - accuracy: 0.7716 - loss: 1.6365 - val_accuracy: 0.7364 - val_loss: 1.8123\n",
      "Epoch 47/50\n",
      "\u001b[1m2801/2801\u001b[0m \u001b[32m━━━━━━━━━━━━━━━━━━━━\u001b[0m\u001b[37m\u001b[0m \u001b[1m0s\u001b[0m 21ms/step - accuracy: 0.7733 - loss: 1.6006\n",
      "Epoch 47: val_loss improved from 1.79745 to 1.78941, saving model to model.keras\n",
      "\u001b[1m2801/2801\u001b[0m \u001b[32m━━━━━━━━━━━━━━━━━━━━\u001b[0m\u001b[37m\u001b[0m \u001b[1m60s\u001b[0m 21ms/step - accuracy: 0.7733 - loss: 1.6006 - val_accuracy: 0.7395 - val_loss: 1.7894\n",
      "Epoch 48/50\n",
      "\u001b[1m2801/2801\u001b[0m \u001b[32m━━━━━━━━━━━━━━━━━━━━\u001b[0m\u001b[37m\u001b[0m \u001b[1m0s\u001b[0m 21ms/step - accuracy: 0.7802 - loss: 1.5599\n",
      "Epoch 48: val_loss improved from 1.78941 to 1.78805, saving model to model.keras\n",
      "\u001b[1m2801/2801\u001b[0m \u001b[32m━━━━━━━━━━━━━━━━━━━━\u001b[0m\u001b[37m\u001b[0m \u001b[1m60s\u001b[0m 21ms/step - accuracy: 0.7802 - loss: 1.5599 - val_accuracy: 0.7426 - val_loss: 1.7881\n",
      "Epoch 49/50\n",
      "\u001b[1m2801/2801\u001b[0m \u001b[32m━━━━━━━━━━━━━━━━━━━━\u001b[0m\u001b[37m\u001b[0m \u001b[1m0s\u001b[0m 21ms/step - accuracy: 0.7841 - loss: 1.5281\n",
      "Epoch 49: val_loss improved from 1.78805 to 1.72009, saving model to model.keras\n",
      "\u001b[1m2801/2801\u001b[0m \u001b[32m━━━━━━━━━━━━━━━━━━━━\u001b[0m\u001b[37m\u001b[0m \u001b[1m60s\u001b[0m 21ms/step - accuracy: 0.7841 - loss: 1.5281 - val_accuracy: 0.7380 - val_loss: 1.7201\n",
      "Epoch 50/50\n",
      "\u001b[1m2799/2801\u001b[0m \u001b[32m━━━━━━━━━━━━━━━━━━━\u001b[0m\u001b[37m━\u001b[0m \u001b[1m0s\u001b[0m 21ms/step - accuracy: 0.7810 - loss: 1.5044\n",
      "Epoch 50: val_loss improved from 1.72009 to 1.70784, saving model to model.keras\n",
      "\u001b[1m2801/2801\u001b[0m \u001b[32m━━━━━━━━━━━━━━━━━━━━\u001b[0m\u001b[37m\u001b[0m \u001b[1m60s\u001b[0m 21ms/step - accuracy: 0.7810 - loss: 1.5044 - val_accuracy: 0.7426 - val_loss: 1.7078\n"
     ]
    }
   ],
   "source": [
    "early_stopping = EarlyStopping(monitor= 'val_loss',patience=3)\n",
    "checkpoint = ModelCheckpoint('model.keras', \n",
    "                    monitor=\"val_loss\", mode=\"min\", \n",
    "                    save_best_only=True, verbose=1)\n",
    "history=model.fit(X_embeddings, y_train, batch_size=4, epochs=50, callbacks=[early_stopping,checkpoint], validation_data=(X_valid_embeddings, y_valid))\n",
    "model.load_weights('model.keras')\n"
   ]
  },
  {
   "cell_type": "code",
   "execution_count": 29,
   "metadata": {
    "execution": {
     "iopub.execute_input": "2024-12-23T20:07:16.192387Z",
     "iopub.status.busy": "2024-12-23T20:07:16.192045Z",
     "iopub.status.idle": "2024-12-23T20:07:18.993941Z",
     "shell.execute_reply": "2024-12-23T20:07:18.993202Z",
     "shell.execute_reply.started": "2024-12-23T20:07:16.192359Z"
    },
    "trusted": true
   },
   "outputs": [
    {
     "name": "stdout",
     "output_type": "stream",
     "text": [
      "\u001b[1m41/41\u001b[0m \u001b[32m━━━━━━━━━━━━━━━━━━━━\u001b[0m\u001b[37m\u001b[0m \u001b[1m1s\u001b[0m 17ms/step - accuracy: 0.7049 - loss: 1.7458\n",
      "Validation Loss: 1.7457314729690552, Validation Accuracy: 0.7317829728126526\n"
     ]
    }
   ],
   "source": [
    "loss, accuracy = model.evaluate(X_valid_embeddings, y_valid)\n",
    "print(f\"Validation Loss: {loss}, Validation Accuracy: {accuracy}\")"
   ]
  },
  {
   "cell_type": "code",
   "execution_count": null,
   "metadata": {
    "trusted": true
   },
   "outputs": [],
   "source": []
  },
  {
   "cell_type": "markdown",
   "metadata": {},
   "source": [
    "# Testing"
   ]
  },
  {
   "cell_type": "code",
   "execution_count": 30,
   "metadata": {
    "execution": {
     "iopub.execute_input": "2024-12-23T20:07:18.995025Z",
     "iopub.status.busy": "2024-12-23T20:07:18.994747Z",
     "iopub.status.idle": "2024-12-23T20:07:18.999449Z",
     "shell.execute_reply": "2024-12-23T20:07:18.998786Z",
     "shell.execute_reply.started": "2024-12-23T20:07:18.995002Z"
    },
    "trusted": true
   },
   "outputs": [],
   "source": [
    "import keras\n",
    "from keras.models import load_model\n"
   ]
  },
  {
   "cell_type": "code",
   "execution_count": 31,
   "metadata": {
    "execution": {
     "iopub.execute_input": "2024-12-23T20:07:19.000402Z",
     "iopub.status.busy": "2024-12-23T20:07:19.000171Z",
     "iopub.status.idle": "2024-12-23T20:07:19.260597Z",
     "shell.execute_reply": "2024-12-23T20:07:19.259885Z",
     "shell.execute_reply.started": "2024-12-23T20:07:19.000380Z"
    },
    "trusted": true
   },
   "outputs": [],
   "source": [
    "loaded_model = load_model(\"model.keras\")"
   ]
  },
  {
   "cell_type": "code",
   "execution_count": 32,
   "metadata": {
    "execution": {
     "iopub.execute_input": "2024-12-23T20:07:19.261592Z",
     "iopub.status.busy": "2024-12-23T20:07:19.261344Z",
     "iopub.status.idle": "2024-12-23T20:08:20.236360Z",
     "shell.execute_reply": "2024-12-23T20:08:20.235197Z",
     "shell.execute_reply.started": "2024-12-23T20:07:19.261569Z"
    },
    "trusted": true
   },
   "outputs": [],
   "source": [
    "import dask.dataframe as dd\n",
    "\n",
    "# Preprocessing text data\n",
    "dataset_path = 'Forum-Discussions-Categorization/nn-25-forum-discussions-categorization'\n",
    "test = dd.read_csv(dataset_path + '/test.csv')\n",
    "X_test=test['Discussion']\n",
    "X_test = X_test.apply(preprocess, meta=('Discussion', 'object')).compute()\n",
    "X_test=list(X_test)\n",
    "encoded_X_test=tokenizer(\n",
    "    X_test,\n",
    "    add_special_tokens=True,\n",
    "    max_length=128,\n",
    "    padding=\"max_length\",\n",
    "    truncation=True,\n",
    "    return_tensors=\"np\"\n",
    ")\n",
    "X_test_input_ids = encoded_X_test[\"input_ids\"]\n",
    "X_test_attention_masks = encoded_X_test[\"attention_mask\"]\n",
    "\n",
    "X_test_embeddings=get_embeddings(X_test_input_ids,X_test_attention_masks)"
   ]
  },
  {
   "cell_type": "code",
   "execution_count": null,
   "metadata": {
    "execution": {
     "execution_failed": "2024-12-23T20:08:29.546Z",
     "iopub.execute_input": "2024-12-23T20:08:20.237704Z",
     "iopub.status.busy": "2024-12-23T20:08:20.237308Z"
    },
    "trusted": true
   },
   "outputs": [],
   "source": [
    "y_test=loaded_model.predict(X_test_embeddings)\n",
    "predictions=np.argmax(y_test, axis=1)"
   ]
  },
  {
   "cell_type": "code",
   "execution_count": null,
   "metadata": {
    "execution": {
     "execution_failed": "2024-12-23T20:08:29.547Z"
    },
    "trusted": true
   },
   "outputs": [],
   "source": [
    "import pandas as pd\n",
    "output=pd.DataFrame(predictions)\n",
    "output.index +=1\n",
    "output.index.name='SampleID'\n",
    "output.columns = ['Discussion']\n",
    "output.to_csv('output.csv', index=True)"
   ]
  }
 ],
 "metadata": {
  "accelerator": "GPU",
  "colab": {
   "gpuType": "T4",
   "provenance": []
  },
  "kaggle": {
   "accelerator": "nvidiaTeslaT4",
   "dataSources": [],
   "isGpuEnabled": true,
   "isInternetEnabled": true,
   "language": "python",
   "sourceType": "notebook"
  },
  "kernelspec": {
   "display_name": "Python 3",
   "language": "python",
   "name": "python3"
  },
  "language_info": {
   "codemirror_mode": {
    "name": "ipython",
    "version": 3
   },
   "file_extension": ".py",
   "mimetype": "text/x-python",
   "name": "python",
   "nbconvert_exporter": "python",
   "pygments_lexer": "ipython3",
   "version": "3.10.12"
  }
 },
 "nbformat": 4,
 "nbformat_minor": 4
}
